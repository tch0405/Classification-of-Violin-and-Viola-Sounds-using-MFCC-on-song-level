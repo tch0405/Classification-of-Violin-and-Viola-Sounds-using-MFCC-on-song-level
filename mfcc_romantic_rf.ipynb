{
 "cells": [
  {
   "cell_type": "code",
   "execution_count": 1,
   "metadata": {},
   "outputs": [
    {
     "name": "stderr",
     "output_type": "stream",
     "text": [
      "/home/student/.local/lib/python3.6/site-packages/numba/core/errors.py:154: UserWarning: Insufficiently recent colorama version found. Numba requires colorama >= 0.3.9\n",
      "  warnings.warn(msg)\n",
      "/home/student/.local/lib/python3.6/site-packages/librosa/core/audio.py:162: UserWarning: PySoundFile failed. Trying audioread instead.\n",
      "  warnings.warn(\"PySoundFile failed. Trying audioread instead.\")\n"
     ]
    },
    {
     "name": "stdout",
     "output_type": "stream",
     "text": [
      "4906743\n"
     ]
    },
    {
     "name": "stderr",
     "output_type": "stream",
     "text": [
      "/home/student/.local/lib/python3.6/site-packages/librosa/core/audio.py:162: UserWarning: PySoundFile failed. Trying audioread instead.\n",
      "  warnings.warn(\"PySoundFile failed. Trying audioread instead.\")\n"
     ]
    },
    {
     "name": "stdout",
     "output_type": "stream",
     "text": [
      "2624303\n"
     ]
    },
    {
     "name": "stderr",
     "output_type": "stream",
     "text": [
      "/home/student/.local/lib/python3.6/site-packages/librosa/core/audio.py:162: UserWarning: PySoundFile failed. Trying audioread instead.\n",
      "  warnings.warn(\"PySoundFile failed. Trying audioread instead.\")\n"
     ]
    },
    {
     "name": "stdout",
     "output_type": "stream",
     "text": [
      "3638250\n"
     ]
    },
    {
     "name": "stderr",
     "output_type": "stream",
     "text": [
      "/home/student/.local/lib/python3.6/site-packages/librosa/core/audio.py:162: UserWarning: PySoundFile failed. Trying audioread instead.\n",
      "  warnings.warn(\"PySoundFile failed. Trying audioread instead.\")\n"
     ]
    },
    {
     "name": "stdout",
     "output_type": "stream",
     "text": [
      "7506173\n"
     ]
    },
    {
     "name": "stderr",
     "output_type": "stream",
     "text": [
      "/home/student/.local/lib/python3.6/site-packages/librosa/core/audio.py:162: UserWarning: PySoundFile failed. Trying audioread instead.\n",
      "  warnings.warn(\"PySoundFile failed. Trying audioread instead.\")\n"
     ]
    },
    {
     "name": "stdout",
     "output_type": "stream",
     "text": [
      "8555048\n"
     ]
    },
    {
     "name": "stderr",
     "output_type": "stream",
     "text": [
      "/home/student/.local/lib/python3.6/site-packages/librosa/core/audio.py:162: UserWarning: PySoundFile failed. Trying audioread instead.\n",
      "  warnings.warn(\"PySoundFile failed. Trying audioread instead.\")\n"
     ]
    },
    {
     "name": "stdout",
     "output_type": "stream",
     "text": [
      "3925077\n"
     ]
    },
    {
     "name": "stderr",
     "output_type": "stream",
     "text": [
      "/home/student/.local/lib/python3.6/site-packages/librosa/core/audio.py:162: UserWarning: PySoundFile failed. Trying audioread instead.\n",
      "  warnings.warn(\"PySoundFile failed. Trying audioread instead.\")\n"
     ]
    },
    {
     "name": "stdout",
     "output_type": "stream",
     "text": [
      "6945750\n"
     ]
    },
    {
     "name": "stderr",
     "output_type": "stream",
     "text": [
      "/home/student/.local/lib/python3.6/site-packages/librosa/core/audio.py:162: UserWarning: PySoundFile failed. Trying audioread instead.\n",
      "  warnings.warn(\"PySoundFile failed. Trying audioread instead.\")\n"
     ]
    },
    {
     "name": "stdout",
     "output_type": "stream",
     "text": [
      "2095103\n"
     ]
    },
    {
     "name": "stderr",
     "output_type": "stream",
     "text": [
      "/home/student/.local/lib/python3.6/site-packages/librosa/core/audio.py:162: UserWarning: PySoundFile failed. Trying audioread instead.\n",
      "  warnings.warn(\"PySoundFile failed. Trying audioread instead.\")\n"
     ]
    },
    {
     "name": "stdout",
     "output_type": "stream",
     "text": [
      "5975727\n"
     ]
    },
    {
     "name": "stderr",
     "output_type": "stream",
     "text": [
      "/home/student/.local/lib/python3.6/site-packages/librosa/core/audio.py:162: UserWarning: PySoundFile failed. Trying audioread instead.\n",
      "  warnings.warn(\"PySoundFile failed. Trying audioread instead.\")\n"
     ]
    },
    {
     "name": "stdout",
     "output_type": "stream",
     "text": [
      "7122503\n"
     ]
    },
    {
     "name": "stderr",
     "output_type": "stream",
     "text": [
      "/home/student/.local/lib/python3.6/site-packages/librosa/core/audio.py:162: UserWarning: PySoundFile failed. Trying audioread instead.\n",
      "  warnings.warn(\"PySoundFile failed. Trying audioread instead.\")\n"
     ]
    },
    {
     "name": "stdout",
     "output_type": "stream",
     "text": [
      "2139027\n"
     ]
    },
    {
     "name": "stderr",
     "output_type": "stream",
     "text": [
      "/home/student/.local/lib/python3.6/site-packages/librosa/core/audio.py:162: UserWarning: PySoundFile failed. Trying audioread instead.\n",
      "  warnings.warn(\"PySoundFile failed. Trying audioread instead.\")\n"
     ]
    },
    {
     "name": "stdout",
     "output_type": "stream",
     "text": [
      "3131277\n"
     ]
    },
    {
     "name": "stderr",
     "output_type": "stream",
     "text": [
      "/home/student/.local/lib/python3.6/site-packages/librosa/core/audio.py:162: UserWarning: PySoundFile failed. Trying audioread instead.\n",
      "  warnings.warn(\"PySoundFile failed. Trying audioread instead.\")\n"
     ]
    },
    {
     "name": "stdout",
     "output_type": "stream",
     "text": [
      "4718877\n"
     ]
    },
    {
     "name": "stderr",
     "output_type": "stream",
     "text": [
      "/home/student/.local/lib/python3.6/site-packages/librosa/core/audio.py:162: UserWarning: PySoundFile failed. Trying audioread instead.\n",
      "  warnings.warn(\"PySoundFile failed. Trying audioread instead.\")\n"
     ]
    },
    {
     "name": "stdout",
     "output_type": "stream",
     "text": [
      "3659948\n"
     ]
    },
    {
     "name": "stderr",
     "output_type": "stream",
     "text": [
      "/home/student/.local/lib/python3.6/site-packages/librosa/core/audio.py:162: UserWarning: PySoundFile failed. Trying audioread instead.\n",
      "  warnings.warn(\"PySoundFile failed. Trying audioread instead.\")\n"
     ]
    },
    {
     "name": "stdout",
     "output_type": "stream",
     "text": [
      "4718877\n"
     ]
    },
    {
     "name": "stderr",
     "output_type": "stream",
     "text": [
      "/home/student/.local/lib/python3.6/site-packages/librosa/core/audio.py:162: UserWarning: PySoundFile failed. Trying audioread instead.\n",
      "  warnings.warn(\"PySoundFile failed. Trying audioread instead.\")\n"
     ]
    },
    {
     "name": "stdout",
     "output_type": "stream",
     "text": [
      "3197427\n"
     ]
    },
    {
     "name": "stderr",
     "output_type": "stream",
     "text": [
      "/home/student/.local/lib/python3.6/site-packages/librosa/core/audio.py:162: UserWarning: PySoundFile failed. Trying audioread instead.\n",
      "  warnings.warn(\"PySoundFile failed. Trying audioread instead.\")\n"
     ]
    },
    {
     "name": "stdout",
     "output_type": "stream",
     "text": [
      "5821200\n"
     ]
    },
    {
     "name": "stderr",
     "output_type": "stream",
     "text": [
      "/home/student/.local/lib/python3.6/site-packages/librosa/core/audio.py:162: UserWarning: PySoundFile failed. Trying audioread instead.\n",
      "  warnings.warn(\"PySoundFile failed. Trying audioread instead.\")\n"
     ]
    },
    {
     "name": "stdout",
     "output_type": "stream",
     "text": [
      "3748324\n"
     ]
    },
    {
     "name": "stderr",
     "output_type": "stream",
     "text": [
      "/home/student/.local/lib/python3.6/site-packages/librosa/core/audio.py:162: UserWarning: PySoundFile failed. Trying audioread instead.\n",
      "  warnings.warn(\"PySoundFile failed. Trying audioread instead.\")\n"
     ]
    },
    {
     "name": "stdout",
     "output_type": "stream",
     "text": [
      "4321977\n"
     ]
    },
    {
     "name": "stderr",
     "output_type": "stream",
     "text": [
      "/home/student/.local/lib/python3.6/site-packages/librosa/core/spectrum.py:224: UserWarning: n_fft=2048 is too small for input signal of length=177\n",
      "  n_fft, y.shape[-1]\n",
      "/home/student/.local/lib/python3.6/site-packages/librosa/core/audio.py:162: UserWarning: PySoundFile failed. Trying audioread instead.\n",
      "  warnings.warn(\"PySoundFile failed. Trying audioread instead.\")\n"
     ]
    },
    {
     "name": "stdout",
     "output_type": "stream",
     "text": [
      "6242973\n"
     ]
    },
    {
     "name": "stderr",
     "output_type": "stream",
     "text": [
      "/home/student/.local/lib/python3.6/site-packages/librosa/core/audio.py:162: UserWarning: PySoundFile failed. Trying audioread instead.\n",
      "  warnings.warn(\"PySoundFile failed. Trying audioread instead.\")\n"
     ]
    },
    {
     "name": "stdout",
     "output_type": "stream",
     "text": [
      "4961250\n"
     ]
    },
    {
     "name": "stderr",
     "output_type": "stream",
     "text": [
      "/home/student/.local/lib/python3.6/site-packages/librosa/core/audio.py:162: UserWarning: PySoundFile failed. Trying audioread instead.\n",
      "  warnings.warn(\"PySoundFile failed. Trying audioread instead.\")\n"
     ]
    },
    {
     "name": "stdout",
     "output_type": "stream",
     "text": [
      "2557624\n"
     ]
    },
    {
     "name": "stderr",
     "output_type": "stream",
     "text": [
      "/home/student/.local/lib/python3.6/site-packages/librosa/core/audio.py:162: UserWarning: PySoundFile failed. Trying audioread instead.\n",
      "  warnings.warn(\"PySoundFile failed. Trying audioread instead.\")\n"
     ]
    },
    {
     "name": "stdout",
     "output_type": "stream",
     "text": [
      "4696650\n"
     ]
    },
    {
     "name": "stderr",
     "output_type": "stream",
     "text": [
      "/home/student/.local/lib/python3.6/site-packages/librosa/core/audio.py:162: UserWarning: PySoundFile failed. Trying audioread instead.\n",
      "  warnings.warn(\"PySoundFile failed. Trying audioread instead.\")\n"
     ]
    },
    {
     "name": "stdout",
     "output_type": "stream",
     "text": [
      "5335924\n"
     ]
    },
    {
     "name": "stderr",
     "output_type": "stream",
     "text": [
      "/home/student/.local/lib/python3.6/site-packages/librosa/core/audio.py:162: UserWarning: PySoundFile failed. Trying audioread instead.\n",
      "  warnings.warn(\"PySoundFile failed. Trying audioread instead.\")\n"
     ]
    },
    {
     "name": "stdout",
     "output_type": "stream",
     "text": [
      "3042900\n"
     ]
    },
    {
     "name": "stderr",
     "output_type": "stream",
     "text": [
      "/home/student/.local/lib/python3.6/site-packages/librosa/core/audio.py:162: UserWarning: PySoundFile failed. Trying audioread instead.\n",
      "  warnings.warn(\"PySoundFile failed. Trying audioread instead.\")\n"
     ]
    },
    {
     "name": "stdout",
     "output_type": "stream",
     "text": [
      "3484253\n"
     ]
    },
    {
     "name": "stderr",
     "output_type": "stream",
     "text": [
      "/home/student/.local/lib/python3.6/site-packages/librosa/core/audio.py:162: UserWarning: PySoundFile failed. Trying audioread instead.\n",
      "  warnings.warn(\"PySoundFile failed. Trying audioread instead.\")\n"
     ]
    },
    {
     "name": "stdout",
     "output_type": "stream",
     "text": [
      "11510100\n"
     ]
    },
    {
     "name": "stderr",
     "output_type": "stream",
     "text": [
      "/home/student/.local/lib/python3.6/site-packages/librosa/core/audio.py:162: UserWarning: PySoundFile failed. Trying audioread instead.\n",
      "  warnings.warn(\"PySoundFile failed. Trying audioread instead.\")\n"
     ]
    },
    {
     "name": "stdout",
     "output_type": "stream",
     "text": [
      "3285274\n"
     ]
    },
    {
     "name": "stderr",
     "output_type": "stream",
     "text": [
      "/home/student/.local/lib/python3.6/site-packages/librosa/core/audio.py:162: UserWarning: PySoundFile failed. Trying audioread instead.\n",
      "  warnings.warn(\"PySoundFile failed. Trying audioread instead.\")\n"
     ]
    },
    {
     "name": "stdout",
     "output_type": "stream",
     "text": [
      "3925077\n"
     ]
    },
    {
     "name": "stderr",
     "output_type": "stream",
     "text": [
      "/home/student/.local/lib/python3.6/site-packages/librosa/core/audio.py:162: UserWarning: PySoundFile failed. Trying audioread instead.\n",
      "  warnings.warn(\"PySoundFile failed. Trying audioread instead.\")\n"
     ]
    },
    {
     "name": "stdout",
     "output_type": "stream",
     "text": [
      "4012924\n"
     ]
    },
    {
     "name": "stderr",
     "output_type": "stream",
     "text": [
      "/home/student/.local/lib/python3.6/site-packages/librosa/core/audio.py:162: UserWarning: PySoundFile failed. Trying audioread instead.\n",
      "  warnings.warn(\"PySoundFile failed. Trying audioread instead.\")\n"
     ]
    },
    {
     "name": "stdout",
     "output_type": "stream",
     "text": [
      "1433603\n"
     ]
    },
    {
     "name": "stderr",
     "output_type": "stream",
     "text": [
      "/home/student/.local/lib/python3.6/site-packages/librosa/core/audio.py:162: UserWarning: PySoundFile failed. Trying audioread instead.\n",
      "  warnings.warn(\"PySoundFile failed. Trying audioread instead.\")\n"
     ]
    },
    {
     "name": "stdout",
     "output_type": "stream",
     "text": [
      "3660477\n"
     ]
    },
    {
     "name": "stderr",
     "output_type": "stream",
     "text": [
      "/home/student/.local/lib/python3.6/site-packages/librosa/core/audio.py:162: UserWarning: PySoundFile failed. Trying audioread instead.\n",
      "  warnings.warn(\"PySoundFile failed. Trying audioread instead.\")\n"
     ]
    },
    {
     "name": "stdout",
     "output_type": "stream",
     "text": [
      "4211903\n"
     ]
    },
    {
     "name": "stderr",
     "output_type": "stream",
     "text": [
      "/home/student/.local/lib/python3.6/site-packages/librosa/core/audio.py:162: UserWarning: PySoundFile failed. Trying audioread instead.\n",
      "  warnings.warn(\"PySoundFile failed. Trying audioread instead.\")\n"
     ]
    },
    {
     "name": "stdout",
     "output_type": "stream",
     "text": [
      "4321977\n"
     ]
    },
    {
     "name": "stderr",
     "output_type": "stream",
     "text": [
      "/home/student/.local/lib/python3.6/site-packages/librosa/core/spectrum.py:224: UserWarning: n_fft=2048 is too small for input signal of length=177\n",
      "  n_fft, y.shape[-1]\n",
      "/home/student/.local/lib/python3.6/site-packages/librosa/core/audio.py:162: UserWarning: PySoundFile failed. Trying audioread instead.\n",
      "  warnings.warn(\"PySoundFile failed. Trying audioread instead.\")\n"
     ]
    },
    {
     "name": "stdout",
     "output_type": "stream",
     "text": [
      "4079603\n"
     ]
    },
    {
     "name": "stderr",
     "output_type": "stream",
     "text": [
      "/home/student/.local/lib/python3.6/site-packages/librosa/core/audio.py:162: UserWarning: PySoundFile failed. Trying audioread instead.\n",
      "  warnings.warn(\"PySoundFile failed. Trying audioread instead.\")\n",
      "/home/student/.local/lib/python3.6/site-packages/librosa/core/audio.py:162: UserWarning: PySoundFile failed. Trying audioread instead.\n",
      "  warnings.warn(\"PySoundFile failed. Trying audioread instead.\")\n",
      "/home/student/.local/lib/python3.6/site-packages/librosa/core/audio.py:162: UserWarning: PySoundFile failed. Trying audioread instead.\n",
      "  warnings.warn(\"PySoundFile failed. Trying audioread instead.\")\n",
      "/home/student/.local/lib/python3.6/site-packages/librosa/core/audio.py:162: UserWarning: PySoundFile failed. Trying audioread instead.\n",
      "  warnings.warn(\"PySoundFile failed. Trying audioread instead.\")\n",
      "/home/student/.local/lib/python3.6/site-packages/librosa/core/audio.py:162: UserWarning: PySoundFile failed. Trying audioread instead.\n",
      "  warnings.warn(\"PySoundFile failed. Trying audioread instead.\")\n",
      "/home/student/.local/lib/python3.6/site-packages/librosa/core/audio.py:162: UserWarning: PySoundFile failed. Trying audioread instead.\n",
      "  warnings.warn(\"PySoundFile failed. Trying audioread instead.\")\n",
      "/home/student/.local/lib/python3.6/site-packages/librosa/core/audio.py:162: UserWarning: PySoundFile failed. Trying audioread instead.\n",
      "  warnings.warn(\"PySoundFile failed. Trying audioread instead.\")\n",
      "/home/student/.local/lib/python3.6/site-packages/librosa/core/audio.py:162: UserWarning: PySoundFile failed. Trying audioread instead.\n",
      "  warnings.warn(\"PySoundFile failed. Trying audioread instead.\")\n",
      "/home/student/.local/lib/python3.6/site-packages/librosa/core/audio.py:162: UserWarning: PySoundFile failed. Trying audioread instead.\n",
      "  warnings.warn(\"PySoundFile failed. Trying audioread instead.\")\n",
      "/home/student/.local/lib/python3.6/site-packages/librosa/core/audio.py:162: UserWarning: PySoundFile failed. Trying audioread instead.\n",
      "  warnings.warn(\"PySoundFile failed. Trying audioread instead.\")\n",
      "/home/student/.local/lib/python3.6/site-packages/librosa/core/audio.py:162: UserWarning: PySoundFile failed. Trying audioread instead.\n",
      "  warnings.warn(\"PySoundFile failed. Trying audioread instead.\")\n",
      "/home/student/.local/lib/python3.6/site-packages/librosa/core/audio.py:162: UserWarning: PySoundFile failed. Trying audioread instead.\n",
      "  warnings.warn(\"PySoundFile failed. Trying audioread instead.\")\n",
      "/home/student/.local/lib/python3.6/site-packages/librosa/core/audio.py:162: UserWarning: PySoundFile failed. Trying audioread instead.\n",
      "  warnings.warn(\"PySoundFile failed. Trying audioread instead.\")\n",
      "/home/student/.local/lib/python3.6/site-packages/librosa/core/audio.py:162: UserWarning: PySoundFile failed. Trying audioread instead.\n",
      "  warnings.warn(\"PySoundFile failed. Trying audioread instead.\")\n",
      "/home/student/.local/lib/python3.6/site-packages/librosa/core/audio.py:162: UserWarning: PySoundFile failed. Trying audioread instead.\n",
      "  warnings.warn(\"PySoundFile failed. Trying audioread instead.\")\n",
      "/home/student/.local/lib/python3.6/site-packages/librosa/core/audio.py:162: UserWarning: PySoundFile failed. Trying audioread instead.\n",
      "  warnings.warn(\"PySoundFile failed. Trying audioread instead.\")\n",
      "/home/student/.local/lib/python3.6/site-packages/librosa/core/audio.py:162: UserWarning: PySoundFile failed. Trying audioread instead.\n",
      "  warnings.warn(\"PySoundFile failed. Trying audioread instead.\")\n",
      "/home/student/.local/lib/python3.6/site-packages/librosa/core/audio.py:162: UserWarning: PySoundFile failed. Trying audioread instead.\n",
      "  warnings.warn(\"PySoundFile failed. Trying audioread instead.\")\n",
      "/home/student/.local/lib/python3.6/site-packages/librosa/core/spectrum.py:224: UserWarning: n_fft=2048 is too small for input signal of length=530\n",
      "  n_fft, y.shape[-1]\n",
      "/home/student/.local/lib/python3.6/site-packages/librosa/core/audio.py:162: UserWarning: PySoundFile failed. Trying audioread instead.\n",
      "  warnings.warn(\"PySoundFile failed. Trying audioread instead.\")\n",
      "/home/student/.local/lib/python3.6/site-packages/librosa/core/audio.py:162: UserWarning: PySoundFile failed. Trying audioread instead.\n",
      "  warnings.warn(\"PySoundFile failed. Trying audioread instead.\")\n",
      "/home/student/.local/lib/python3.6/site-packages/librosa/core/audio.py:162: UserWarning: PySoundFile failed. Trying audioread instead.\n",
      "  warnings.warn(\"PySoundFile failed. Trying audioread instead.\")\n",
      "/home/student/.local/lib/python3.6/site-packages/librosa/core/audio.py:162: UserWarning: PySoundFile failed. Trying audioread instead.\n",
      "  warnings.warn(\"PySoundFile failed. Trying audioread instead.\")\n",
      "/home/student/.local/lib/python3.6/site-packages/librosa/core/audio.py:162: UserWarning: PySoundFile failed. Trying audioread instead.\n",
      "  warnings.warn(\"PySoundFile failed. Trying audioread instead.\")\n",
      "/home/student/.local/lib/python3.6/site-packages/librosa/core/audio.py:162: UserWarning: PySoundFile failed. Trying audioread instead.\n",
      "  warnings.warn(\"PySoundFile failed. Trying audioread instead.\")\n",
      "/home/student/.local/lib/python3.6/site-packages/librosa/core/spectrum.py:224: UserWarning: n_fft=2048 is too small for input signal of length=1588\n",
      "  n_fft, y.shape[-1]\n",
      "/home/student/.local/lib/python3.6/site-packages/librosa/core/audio.py:162: UserWarning: PySoundFile failed. Trying audioread instead.\n",
      "  warnings.warn(\"PySoundFile failed. Trying audioread instead.\")\n",
      "/home/student/.local/lib/python3.6/site-packages/librosa/core/audio.py:162: UserWarning: PySoundFile failed. Trying audioread instead.\n",
      "  warnings.warn(\"PySoundFile failed. Trying audioread instead.\")\n",
      "/home/student/.local/lib/python3.6/site-packages/librosa/core/audio.py:162: UserWarning: PySoundFile failed. Trying audioread instead.\n",
      "  warnings.warn(\"PySoundFile failed. Trying audioread instead.\")\n",
      "/home/student/.local/lib/python3.6/site-packages/librosa/core/audio.py:162: UserWarning: PySoundFile failed. Trying audioread instead.\n",
      "  warnings.warn(\"PySoundFile failed. Trying audioread instead.\")\n",
      "/home/student/.local/lib/python3.6/site-packages/librosa/core/audio.py:162: UserWarning: PySoundFile failed. Trying audioread instead.\n",
      "  warnings.warn(\"PySoundFile failed. Trying audioread instead.\")\n",
      "/home/student/.local/lib/python3.6/site-packages/librosa/core/audio.py:162: UserWarning: PySoundFile failed. Trying audioread instead.\n",
      "  warnings.warn(\"PySoundFile failed. Trying audioread instead.\")\n",
      "/home/student/.local/lib/python3.6/site-packages/librosa/core/audio.py:162: UserWarning: PySoundFile failed. Trying audioread instead.\n",
      "  warnings.warn(\"PySoundFile failed. Trying audioread instead.\")\n",
      "/home/student/.local/lib/python3.6/site-packages/librosa/core/audio.py:162: UserWarning: PySoundFile failed. Trying audioread instead.\n",
      "  warnings.warn(\"PySoundFile failed. Trying audioread instead.\")\n",
      "/home/student/.local/lib/python3.6/site-packages/librosa/core/audio.py:162: UserWarning: PySoundFile failed. Trying audioread instead.\n",
      "  warnings.warn(\"PySoundFile failed. Trying audioread instead.\")\n",
      "/home/student/.local/lib/python3.6/site-packages/librosa/core/audio.py:162: UserWarning: PySoundFile failed. Trying audioread instead.\n",
      "  warnings.warn(\"PySoundFile failed. Trying audioread instead.\")\n",
      "/home/student/.local/lib/python3.6/site-packages/librosa/core/audio.py:162: UserWarning: PySoundFile failed. Trying audioread instead.\n",
      "  warnings.warn(\"PySoundFile failed. Trying audioread instead.\")\n"
     ]
    }
   ],
   "source": [
    "import os\n",
    "import numpy, scipy, matplotlib.pyplot as plt, IPython.display as ipd\n",
    "import librosa, librosa.display\n",
    "import numpy as np\n",
    "import math\n",
    "os.chdir('/home/student/Downloads/new_violin_viola/romantic/viola/solo_train')\n",
    "x_train=[]\n",
    "y_train=[]\n",
    "mfcc_list_mean = []\n",
    "mfcc_list_std = []\n",
    "count1=0\n",
    "for f_name in os.listdir('/home/student/Downloads/new_violin_viola/romantic/viola/solo_train'):\n",
    "    if f_name.endswith('.wav') or f_name.endswith('.mp3'):\n",
    "        x, sr = librosa.load(f_name)\n",
    "        print(len(x))\n",
    "        start=0\n",
    "        end = 4*22050\n",
    "\n",
    "        x = x/x.max()\n",
    "        length = len(x)\n",
    "        count = math.ceil(len(x)/(22050*4))\n",
    "        count1+=count\n",
    "        for i in range(count):\n",
    "            if end >= length:\n",
    "                end = length\n",
    "            temp = x[start:end]\n",
    "            \n",
    "            mfcc = librosa.feature.mfcc(temp, n_mfcc=13)\n",
    "            variable = []\n",
    "            temp1 =list(np.mean(mfcc,1))\n",
    "            temp2=list(np.std(mfcc,1))\n",
    "            variable = temp1+temp2\n",
    "            x_train.append(variable)\n",
    "            y_train.append(\"viola\")\n",
    "            start = end\n",
    "            end = end+4*22050\n",
    "os.chdir('/home/student/Downloads/new_violin_viola/romantic/violin/solo_train')\n",
    "for f_name in os.listdir('/home/student/Downloads/new_violin_viola/romantic/violin/solo_train'):\n",
    "    if f_name.endswith('.wav') or f_name.endswith('.mp3'):\n",
    "        x, sr = librosa.load(f_name)\n",
    "        start=0\n",
    "        end = 4*22050\n",
    "\n",
    "        x = x/x.max()\n",
    "        length = len(x)\n",
    "        count = math.ceil(len(x)/(22050*4))\n",
    "        count1+=count\n",
    "        for i in range(count):\n",
    "            if end >= length:\n",
    "                end = length\n",
    "            temp = x[start:end]\n",
    "            \n",
    "            mfcc = librosa.feature.mfcc(temp, n_mfcc=13)\n",
    "            variable = []\n",
    "            temp1 =list(np.mean(mfcc,1))\n",
    "            temp2=list(np.std(mfcc,1))\n",
    "            variable = temp1+temp2\n",
    "            x_train.append(variable)\n",
    "            y_train.append(\"violin\")\n",
    "            start = end\n",
    "            end = end+4*22050\n",
    "        \n",
    "        "
   ]
  },
  {
   "cell_type": "code",
   "execution_count": 2,
   "metadata": {},
   "outputs": [
    {
     "name": "stdout",
     "output_type": "stream",
     "text": [
      "3613 3613\n"
     ]
    },
    {
     "data": {
      "text/plain": [
       "RandomForestClassifier(bootstrap=True, ccp_alpha=0.0, class_weight=None,\n",
       "                       criterion='gini', max_depth=10, max_features='auto',\n",
       "                       max_leaf_nodes=None, max_samples=None,\n",
       "                       min_impurity_decrease=0.0, min_impurity_split=None,\n",
       "                       min_samples_leaf=1, min_samples_split=2,\n",
       "                       min_weight_fraction_leaf=0.0, n_estimators=100,\n",
       "                       n_jobs=None, oob_score=False, random_state=0, verbose=0,\n",
       "                       warm_start=False)"
      ]
     },
     "execution_count": 2,
     "metadata": {},
     "output_type": "execute_result"
    }
   ],
   "source": [
    "from sklearn.ensemble import RandomForestClassifier\n",
    "from sklearn.metrics import confusion_matrix\n",
    "from sklearn.metrics import accuracy_score\n",
    "from sklearn.svm import SVC\n",
    "from sklearn.preprocessing import StandardScaler\n",
    "#scaler = StandardScaler()\n",
    "#scaler.fit(x_train)\n",
    "#x_train = scaler.transform(x_train)\n",
    "from sklearn.ensemble import RandomForestClassifier\n",
    "from sklearn.metrics import confusion_matrix\n",
    "from sklearn.metrics import accuracy_score\n",
    "classifier = RandomForestClassifier(max_depth=10, random_state=0)\n",
    "#classifier = SVC(kernel='rbf', random_state=0, gamma=.1, C=1,probability = True)\n",
    "print(len(x_train), len(y_train))\n",
    "classifier.fit(x_train, y_train)"
   ]
  },
  {
   "cell_type": "code",
   "execution_count": 3,
   "metadata": {},
   "outputs": [
    {
     "data": {
      "text/plain": [
       "2813228"
      ]
     },
     "execution_count": 3,
     "metadata": {},
     "output_type": "execute_result"
    }
   ],
   "source": [
    "length"
   ]
  },
  {
   "cell_type": "code",
   "execution_count": 4,
   "metadata": {},
   "outputs": [
    {
     "name": "stdout",
     "output_type": "stream",
     "text": [
      "Vieuxtemps, Henry Capriccio 'Hommage à Paganin', Op.55 in C minor.mp3\n"
     ]
    },
    {
     "name": "stderr",
     "output_type": "stream",
     "text": [
      "/home/student/.local/lib/python3.6/site-packages/librosa/core/audio.py:162: UserWarning: PySoundFile failed. Trying audioread instead.\n",
      "  warnings.warn(\"PySoundFile failed. Trying audioread instead.\")\n"
     ]
    },
    {
     "name": "stdout",
     "output_type": "stream",
     "text": [
      "Confidence interval for viola:1.0 Confidence interval for violin:0.0\n",
      "True label: Viola\n",
      "Predicted: Viola\n",
      "Vieuxtemps Capriccio in C minor, Op 61, for viola solo Lars Anders Tomter.mp3\n"
     ]
    },
    {
     "name": "stderr",
     "output_type": "stream",
     "text": [
      "/home/student/.local/lib/python3.6/site-packages/librosa/core/audio.py:162: UserWarning: PySoundFile failed. Trying audioread instead.\n",
      "  warnings.warn(\"PySoundFile failed. Trying audioread instead.\")\n",
      "/home/student/.local/lib/python3.6/site-packages/librosa/core/spectrum.py:224: UserWarning: n_fft=2048 is too small for input signal of length=352\n",
      "  n_fft, y.shape[-1]\n",
      "/home/student/.local/lib/python3.6/site-packages/librosa/core/audio.py:162: UserWarning: PySoundFile failed. Trying audioread instead.\n",
      "  warnings.warn(\"PySoundFile failed. Trying audioread instead.\")\n"
     ]
    },
    {
     "name": "stdout",
     "output_type": "stream",
     "text": [
      "Confidence interval for viola:0.9375 Confidence interval for violin:0.0625\n",
      "True label: Viola\n",
      "Predicted: Viola\n",
      "12 Etudes for Viola No. 3: Allegretto (molto moderato).mp3\n",
      "Confidence interval for viola:0.9523809523809523 Confidence interval for violin:0.047619047619047616\n",
      "True label: Viola\n",
      "Predicted: Viola\n",
      "Caprice No. 12.mp3\n"
     ]
    },
    {
     "name": "stderr",
     "output_type": "stream",
     "text": [
      "/home/student/.local/lib/python3.6/site-packages/librosa/core/audio.py:162: UserWarning: PySoundFile failed. Trying audioread instead.\n",
      "  warnings.warn(\"PySoundFile failed. Trying audioread instead.\")\n",
      "/home/student/.local/lib/python3.6/site-packages/librosa/core/spectrum.py:224: UserWarning: n_fft=2048 is too small for input signal of length=352\n",
      "  n_fft, y.shape[-1]\n",
      "/home/student/.local/lib/python3.6/site-packages/librosa/core/audio.py:162: UserWarning: PySoundFile failed. Trying audioread instead.\n",
      "  warnings.warn(\"PySoundFile failed. Trying audioread instead.\")\n"
     ]
    },
    {
     "name": "stdout",
     "output_type": "stream",
     "text": [
      "Confidence interval for viola:1.0 Confidence interval for violin:0.0\n",
      "True label: Viola\n",
      "Predicted: Viola\n",
      "6 Morceaux, suivis d'un capriccio, Op. 61, Capriccio for solo viola Capriccio in C Minor.mp3\n",
      "Confidence interval for viola:0.9375 Confidence interval for violin:0.0625\n",
      "True label: Viola\n",
      "Predicted: Viola\n",
      "Kayser Study in F Major, Op. 20, No. 1 - Viola.mp3\n"
     ]
    },
    {
     "name": "stderr",
     "output_type": "stream",
     "text": [
      "/home/student/.local/lib/python3.6/site-packages/librosa/core/audio.py:162: UserWarning: PySoundFile failed. Trying audioread instead.\n",
      "  warnings.warn(\"PySoundFile failed. Trying audioread instead.\")\n"
     ]
    },
    {
     "name": "stdout",
     "output_type": "stream",
     "text": [
      "Confidence interval for viola:0.043478260869565216 Confidence interval for violin:0.9565217391304348\n",
      "True label: Viola\n",
      "Predicted: Violin\n",
      "12 Etudes for Viola No. 8: Allegro.mp3\n"
     ]
    },
    {
     "name": "stderr",
     "output_type": "stream",
     "text": [
      "/home/student/.local/lib/python3.6/site-packages/librosa/core/audio.py:162: UserWarning: PySoundFile failed. Trying audioread instead.\n",
      "  warnings.warn(\"PySoundFile failed. Trying audioread instead.\")\n",
      "/home/student/.local/lib/python3.6/site-packages/librosa/core/spectrum.py:224: UserWarning: n_fft=2048 is too small for input signal of length=176\n",
      "  n_fft, y.shape[-1]\n",
      "/home/student/.local/lib/python3.6/site-packages/librosa/core/audio.py:162: UserWarning: PySoundFile failed. Trying audioread instead.\n",
      "  warnings.warn(\"PySoundFile failed. Trying audioread instead.\")\n"
     ]
    },
    {
     "name": "stdout",
     "output_type": "stream",
     "text": [
      "Confidence interval for viola:1.0 Confidence interval for violin:0.0\n",
      "True label: Viola\n",
      "Predicted: Viola\n",
      "12 Etudes for Viola No. 5: Tema con Variazioni.mp3\n",
      "Confidence interval for viola:1.0 Confidence interval for violin:0.0\n",
      "True label: Viola\n",
      "Predicted: Viola\n",
      "Caprice No. 23.mp3\n"
     ]
    },
    {
     "name": "stderr",
     "output_type": "stream",
     "text": [
      "/home/student/.local/lib/python3.6/site-packages/librosa/core/audio.py:162: UserWarning: PySoundFile failed. Trying audioread instead.\n",
      "  warnings.warn(\"PySoundFile failed. Trying audioread instead.\")\n"
     ]
    },
    {
     "name": "stdout",
     "output_type": "stream",
     "text": [
      "Confidence interval for viola:1.0 Confidence interval for violin:0.0\n",
      "True label: Viola\n",
      "Predicted: Viola\n",
      "12 Etudes for Viola No. 4: Allegro.mp3\n"
     ]
    },
    {
     "name": "stderr",
     "output_type": "stream",
     "text": [
      "/home/student/.local/lib/python3.6/site-packages/librosa/core/audio.py:162: UserWarning: PySoundFile failed. Trying audioread instead.\n",
      "  warnings.warn(\"PySoundFile failed. Trying audioread instead.\")\n",
      "/home/student/.local/lib/python3.6/site-packages/librosa/core/spectrum.py:224: UserWarning: n_fft=2048 is too small for input signal of length=176\n",
      "  n_fft, y.shape[-1]\n",
      "/home/student/.local/lib/python3.6/site-packages/librosa/core/audio.py:162: UserWarning: PySoundFile failed. Trying audioread instead.\n",
      "  warnings.warn(\"PySoundFile failed. Trying audioread instead.\")\n"
     ]
    },
    {
     "name": "stdout",
     "output_type": "stream",
     "text": [
      "Confidence interval for viola:1.0 Confidence interval for violin:0.0\n",
      "True label: Viola\n",
      "Predicted: Viola\n",
      "12 Etudes for Viola No. 7: Vivace.mp3\n",
      "Confidence interval for viola:0.9836065573770492 Confidence interval for violin:0.01639344262295082\n",
      "True label: Viola\n",
      "Predicted: Viola\n",
      "12 Etudes for Viola No. 10: Allegro.mp3\n"
     ]
    },
    {
     "name": "stderr",
     "output_type": "stream",
     "text": [
      "/home/student/.local/lib/python3.6/site-packages/librosa/core/audio.py:162: UserWarning: PySoundFile failed. Trying audioread instead.\n",
      "  warnings.warn(\"PySoundFile failed. Trying audioread instead.\")\n"
     ]
    },
    {
     "name": "stdout",
     "output_type": "stream",
     "text": [
      "Confidence interval for viola:1.0 Confidence interval for violin:0.0\n",
      "True label: Viola\n",
      "Predicted: Viola\n",
      "12 Etudes for Viola No. 9: Cantabile.mp3\n"
     ]
    },
    {
     "name": "stderr",
     "output_type": "stream",
     "text": [
      "/home/student/.local/lib/python3.6/site-packages/librosa/core/audio.py:162: UserWarning: PySoundFile failed. Trying audioread instead.\n",
      "  warnings.warn(\"PySoundFile failed. Trying audioread instead.\")\n"
     ]
    },
    {
     "name": "stdout",
     "output_type": "stream",
     "text": [
      "Confidence interval for viola:1.0 Confidence interval for violin:0.0\n",
      "True label: Viola\n",
      "Predicted: Viola\n",
      "12 Etudes for Viola No. 6: Andante (Lento).mp3\n"
     ]
    },
    {
     "name": "stderr",
     "output_type": "stream",
     "text": [
      "/home/student/.local/lib/python3.6/site-packages/librosa/core/audio.py:162: UserWarning: PySoundFile failed. Trying audioread instead.\n",
      "  warnings.warn(\"PySoundFile failed. Trying audioread instead.\")\n"
     ]
    },
    {
     "name": "stdout",
     "output_type": "stream",
     "text": [
      "Confidence interval for viola:1.0 Confidence interval for violin:0.0\n",
      "True label: Viola\n",
      "Predicted: Viola\n",
      "12 Etudes for Viola No. 11: Allegro moderato.mp3\n"
     ]
    },
    {
     "name": "stderr",
     "output_type": "stream",
     "text": [
      "/home/student/.local/lib/python3.6/site-packages/librosa/core/audio.py:162: UserWarning: PySoundFile failed. Trying audioread instead.\n",
      "  warnings.warn(\"PySoundFile failed. Trying audioread instead.\")\n"
     ]
    },
    {
     "name": "stdout",
     "output_type": "stream",
     "text": [
      "Confidence interval for viola:1.0 Confidence interval for violin:0.0\n",
      "True label: Viola\n",
      "Predicted: Viola\n"
     ]
    }
   ],
   "source": [
    "tp_viola = 0\n",
    "fp_violin =0\n",
    "g_temp_tp_viola =0\n",
    "g_temp_fp_violin =0\n",
    "g_temp_tp_violin = 0\n",
    "g_temp_fp_viola=0\n",
    "os.chdir('/home/student/Downloads/new_violin_viola/romantic/viola/solo_test')\n",
    "for f_name in os.listdir('/home/student/Downloads/new_violin_viola/romantic/viola/solo_test'):\n",
    "    if f_name.endswith('.wav') or f_name.endswith('.mp3'):\n",
    "        print(f_name)\n",
    "        x, sr = librosa.load(f_name)\n",
    "        start=0\n",
    "        end = 4*22050+1\n",
    "\n",
    "        x = x/x.max()\n",
    "        length = len(x)\n",
    "        count = math.ceil(len(x)/(22050*4))\n",
    "        temp_tp_viola = 0\n",
    "        temp_fp_violin =0\n",
    "        for i in range(count):\n",
    "            \n",
    "            if end >= length:\n",
    "                end = length\n",
    "            temp = x[start:end]\n",
    "            mfcc = librosa.feature.mfcc(temp, n_mfcc=13)\n",
    "            variable = []\n",
    "            temp1 =list(np.mean(mfcc,1))\n",
    "            temp2=list(np.std(mfcc,1))\n",
    "            variable = temp1+temp2\n",
    "            y_pred = classifier.predict([variable])\n",
    "            if y_pred == \"viola\":\n",
    "                temp_tp_viola+=1\n",
    "                g_temp_tp_viola+=1\n",
    "            else:\n",
    "                temp_fp_violin+=1\n",
    "                g_temp_fp_violin+=1\n",
    "            start = end\n",
    "            end = end+4*22050\n",
    "        print(\"Confidence interval for viola:\" + str(temp_tp_viola/(temp_tp_viola+temp_fp_violin)) +\" Confidence interval for violin:\"+str(temp_fp_violin/(temp_tp_viola+temp_fp_violin)))\n",
    "        print(\"True label: Viola\")\n",
    "        if temp_tp_viola>temp_fp_violin:\n",
    "            tp_viola+=1\n",
    "            print(\"Predicted: Viola\")\n",
    "        else:\n",
    "            fp_violin+=1\n",
    "            print(\"Predicted: Violin\")\n",
    "            "
   ]
  },
  {
   "cell_type": "code",
   "execution_count": 5,
   "metadata": {},
   "outputs": [
    {
     "name": "stdout",
     "output_type": "stream",
     "text": [
      "Niccolò Paganini - Caprice for Solo Violin, Op. 1 No. 17 (Sheet Music).mp3\n"
     ]
    },
    {
     "name": "stderr",
     "output_type": "stream",
     "text": [
      "/home/student/.local/lib/python3.6/site-packages/librosa/core/audio.py:162: UserWarning: PySoundFile failed. Trying audioread instead.\n",
      "  warnings.warn(\"PySoundFile failed. Trying audioread instead.\")\n"
     ]
    },
    {
     "name": "stdout",
     "output_type": "stream",
     "text": [
      "Confidence interval for violin:0.8518518518518519 Confidence interval for viola:0.14814814814814814\n",
      "True label: Violin\n",
      "Predicted: Violin\n",
      "Kayser Violin Etudes No. 8 카이저 바이올린 에튀드 8번 해설포함 @보찬TV.mp3\n"
     ]
    },
    {
     "name": "stderr",
     "output_type": "stream",
     "text": [
      "/home/student/.local/lib/python3.6/site-packages/librosa/core/audio.py:162: UserWarning: PySoundFile failed. Trying audioread instead.\n",
      "  warnings.warn(\"PySoundFile failed. Trying audioread instead.\")\n"
     ]
    },
    {
     "name": "stdout",
     "output_type": "stream",
     "text": [
      "Confidence interval for violin:0.9734513274336283 Confidence interval for viola:0.02654867256637168\n",
      "True label: Violin\n",
      "Predicted: Violin\n",
      "Schubert Ernst -- Der Erlkonig for Solo Violin.mp3\n"
     ]
    },
    {
     "name": "stderr",
     "output_type": "stream",
     "text": [
      "/home/student/.local/lib/python3.6/site-packages/librosa/core/audio.py:162: UserWarning: PySoundFile failed. Trying audioread instead.\n",
      "  warnings.warn(\"PySoundFile failed. Trying audioread instead.\")\n",
      "/home/student/.local/lib/python3.6/site-packages/librosa/core/spectrum.py:224: UserWarning: n_fft=2048 is too small for input signal of length=1940\n",
      "  n_fft, y.shape[-1]\n",
      "/home/student/.local/lib/python3.6/site-packages/librosa/core/audio.py:162: UserWarning: PySoundFile failed. Trying audioread instead.\n",
      "  warnings.warn(\"PySoundFile failed. Trying audioread instead.\")\n"
     ]
    },
    {
     "name": "stdout",
     "output_type": "stream",
     "text": [
      "Confidence interval for violin:0.5733333333333334 Confidence interval for viola:0.4266666666666667\n",
      "True label: Violin\n",
      "Predicted: Violin\n",
      "Niccolò Paganini - Caprice for Solo Violin, Op. 1 No. 24 (Sheet Music).mp3\n",
      "Confidence interval for violin:0.9253731343283582 Confidence interval for viola:0.07462686567164178\n",
      "True label: Violin\n",
      "Predicted: Violin\n",
      "Tchaikovsky Violin Concerto Solo Excerpt played on a Stradivari violin.mp3\n"
     ]
    },
    {
     "name": "stderr",
     "output_type": "stream",
     "text": [
      "/home/student/.local/lib/python3.6/site-packages/librosa/core/audio.py:162: UserWarning: PySoundFile failed. Trying audioread instead.\n",
      "  warnings.warn(\"PySoundFile failed. Trying audioread instead.\")\n"
     ]
    },
    {
     "name": "stdout",
     "output_type": "stream",
     "text": [
      "Confidence interval for violin:0.7355371900826446 Confidence interval for viola:0.2644628099173554\n",
      "True label: Violin\n",
      "Predicted: Violin\n",
      "Niccolò Paganini - Caprice for Solo Violin, Op. 1 No. 18 (Sheet Music).mp3\n"
     ]
    },
    {
     "name": "stderr",
     "output_type": "stream",
     "text": [
      "/home/student/.local/lib/python3.6/site-packages/librosa/core/audio.py:162: UserWarning: PySoundFile failed. Trying audioread instead.\n",
      "  warnings.warn(\"PySoundFile failed. Trying audioread instead.\")\n"
     ]
    },
    {
     "name": "stdout",
     "output_type": "stream",
     "text": [
      "Confidence interval for violin:1.0 Confidence interval for viola:0.0\n",
      "True label: Violin\n",
      "Predicted: Violin\n",
      "Niccolò Paganini - Caprice for Solo Violin, Op. 1 No. 19 (Sheet Music).mp3\n"
     ]
    },
    {
     "name": "stderr",
     "output_type": "stream",
     "text": [
      "/home/student/.local/lib/python3.6/site-packages/librosa/core/audio.py:162: UserWarning: PySoundFile failed. Trying audioread instead.\n",
      "  warnings.warn(\"PySoundFile failed. Trying audioread instead.\")\n"
     ]
    },
    {
     "name": "stdout",
     "output_type": "stream",
     "text": [
      "Confidence interval for violin:0.9111111111111111 Confidence interval for viola:0.08888888888888889\n",
      "True label: Violin\n",
      "Predicted: Violin\n",
      "Kayser Violin Etudes No. 9 카이저 바이올린 에튀드 9번 해설포함 @보찬TV.mp3\n"
     ]
    },
    {
     "name": "stderr",
     "output_type": "stream",
     "text": [
      "/home/student/.local/lib/python3.6/site-packages/librosa/core/audio.py:162: UserWarning: PySoundFile failed. Trying audioread instead.\n",
      "  warnings.warn(\"PySoundFile failed. Trying audioread instead.\")\n"
     ]
    },
    {
     "name": "stdout",
     "output_type": "stream",
     "text": [
      "Confidence interval for violin:0.9101796407185628 Confidence interval for viola:0.08982035928143713\n",
      "True label: Violin\n",
      "Predicted: Violin\n",
      "Kayser Violin Etudes No. 10 카이저 바이올린 에튀드 10번 @보찬TV.mp3\n"
     ]
    },
    {
     "name": "stderr",
     "output_type": "stream",
     "text": [
      "/home/student/.local/lib/python3.6/site-packages/librosa/core/audio.py:162: UserWarning: PySoundFile failed. Trying audioread instead.\n",
      "  warnings.warn(\"PySoundFile failed. Trying audioread instead.\")\n"
     ]
    },
    {
     "name": "stdout",
     "output_type": "stream",
     "text": [
      "Confidence interval for violin:0.7435897435897436 Confidence interval for viola:0.2564102564102564\n",
      "True label: Violin\n",
      "Predicted: Violin\n",
      "36 Violin Studies, Op.20 (Kayser, Heinrich Ernst) No. 13 - Sun Kim.mp3\n"
     ]
    },
    {
     "name": "stderr",
     "output_type": "stream",
     "text": [
      "/home/student/.local/lib/python3.6/site-packages/librosa/core/audio.py:162: UserWarning: PySoundFile failed. Trying audioread instead.\n",
      "  warnings.warn(\"PySoundFile failed. Trying audioread instead.\")\n"
     ]
    },
    {
     "name": "stdout",
     "output_type": "stream",
     "text": [
      "Confidence interval for violin:0.2777777777777778 Confidence interval for viola:0.7222222222222222\n",
      "True label: Violin\n",
      "Predicted: Viola\n",
      "Heinrich Wilhelm Ernst Study 4.mp3\n"
     ]
    },
    {
     "name": "stderr",
     "output_type": "stream",
     "text": [
      "/home/student/.local/lib/python3.6/site-packages/librosa/core/audio.py:162: UserWarning: PySoundFile failed. Trying audioread instead.\n",
      "  warnings.warn(\"PySoundFile failed. Trying audioread instead.\")\n"
     ]
    },
    {
     "name": "stdout",
     "output_type": "stream",
     "text": [
      "Confidence interval for violin:1.0 Confidence interval for viola:0.0\n",
      "True label: Violin\n",
      "Predicted: Violin\n",
      "Heinrich Wilhelm Ernst Study 5.mp3\n"
     ]
    },
    {
     "name": "stderr",
     "output_type": "stream",
     "text": [
      "/home/student/.local/lib/python3.6/site-packages/librosa/core/audio.py:162: UserWarning: PySoundFile failed. Trying audioread instead.\n",
      "  warnings.warn(\"PySoundFile failed. Trying audioread instead.\")\n"
     ]
    },
    {
     "name": "stdout",
     "output_type": "stream",
     "text": [
      "Confidence interval for violin:1.0 Confidence interval for viola:0.0\n",
      "True label: Violin\n",
      "Predicted: Violin\n",
      "F. Chopin - Nocturne in C# minor [Violin Solo].mp3\n"
     ]
    },
    {
     "name": "stderr",
     "output_type": "stream",
     "text": [
      "/home/student/.local/lib/python3.6/site-packages/librosa/core/audio.py:162: UserWarning: PySoundFile failed. Trying audioread instead.\n",
      "  warnings.warn(\"PySoundFile failed. Trying audioread instead.\")\n"
     ]
    },
    {
     "name": "stdout",
     "output_type": "stream",
     "text": [
      "Confidence interval for violin:0.8518518518518519 Confidence interval for viola:0.14814814814814814\n",
      "True label: Violin\n",
      "Predicted: Violin\n",
      "Niccolò Paganini - Caprice for Solo Violin, Op. 1 No. 22 (Sheet Music).mp3\n"
     ]
    },
    {
     "name": "stderr",
     "output_type": "stream",
     "text": [
      "/home/student/.local/lib/python3.6/site-packages/librosa/core/audio.py:162: UserWarning: PySoundFile failed. Trying audioread instead.\n",
      "  warnings.warn(\"PySoundFile failed. Trying audioread instead.\")\n"
     ]
    },
    {
     "name": "stdout",
     "output_type": "stream",
     "text": [
      "Confidence interval for violin:0.98 Confidence interval for viola:0.02\n",
      "True label: Violin\n",
      "Predicted: Violin\n",
      "Heinrich Wilhelm Ernst - Der Erlkönig Grand Caprice op.26.mp3\n"
     ]
    },
    {
     "name": "stderr",
     "output_type": "stream",
     "text": [
      "/home/student/.local/lib/python3.6/site-packages/librosa/core/audio.py:162: UserWarning: PySoundFile failed. Trying audioread instead.\n",
      "  warnings.warn(\"PySoundFile failed. Trying audioread instead.\")\n"
     ]
    },
    {
     "name": "stdout",
     "output_type": "stream",
     "text": [
      "Confidence interval for violin:0.9066666666666666 Confidence interval for viola:0.09333333333333334\n",
      "True label: Violin\n",
      "Predicted: Violin\n"
     ]
    }
   ],
   "source": [
    "tp_violin = 0\n",
    "fp_viola =0\n",
    "os.chdir('/home/student/Downloads/new_violin_viola/romantic/violin/solo_test')\n",
    "for f_name in os.listdir('/home/student/Downloads/new_violin_viola/romantic/violin/solo_test'):\n",
    "    if f_name.endswith('.wav') or f_name.endswith('.mp3'):\n",
    "        print(f_name)\n",
    "        x, sr = librosa.load(f_name)\n",
    "        start=0\n",
    "        end = 4*22050+1\n",
    "\n",
    "        x = x/x.max()\n",
    "        length = len(x)\n",
    "        count = math.ceil(len(x)/(22050*4))\n",
    "        temp_tp_violin = 0\n",
    "        temp_fp_viola =0\n",
    "        for i in range(count):\n",
    "            \n",
    "            if end >= length:\n",
    "                end = length\n",
    "            temp = x[start:end]\n",
    "            mfcc = librosa.feature.mfcc(temp, n_mfcc=13)\n",
    "            variable = []\n",
    "            temp1 =list(np.mean(mfcc,1))\n",
    "            temp2=list(np.std(mfcc,1))\n",
    "            variable = temp1+temp2\n",
    "            y_pred = classifier.predict([variable])\n",
    "            if y_pred == \"violin\":\n",
    "                temp_tp_violin+=1\n",
    "                g_temp_tp_violin+=1\n",
    "            else:\n",
    "                temp_fp_viola+=1\n",
    "                g_temp_fp_viola+=1\n",
    "            start = end\n",
    "            end = end+4*22050\n",
    "        print(\"Confidence interval for violin:\" + str(temp_tp_violin/(temp_tp_violin+temp_fp_viola)) +\" Confidence interval for viola:\"+str(temp_fp_viola/(temp_tp_violin+temp_fp_viola)))\n",
    "        print(\"True label: Violin\")\n",
    "        if temp_tp_violin>temp_fp_viola:\n",
    "            tp_violin+=1\n",
    "            print(\"Predicted: Violin\")\n",
    "        else:\n",
    "            fp_viola+=1\n",
    "            print(\"Predicted: Viola\")"
   ]
  },
  {
   "cell_type": "code",
   "execution_count": 6,
   "metadata": {},
   "outputs": [
    {
     "name": "stdout",
     "output_type": "stream",
     "text": [
      "0.9333333333333333\n"
     ]
    }
   ],
   "source": [
    "accuracy = (tp_violin+tp_viola)/(tp_violin+tp_viola+fp_viola+fp_violin)\n",
    "print(accuracy)"
   ]
  },
  {
   "cell_type": "code",
   "execution_count": 7,
   "metadata": {},
   "outputs": [
    {
     "name": "stdout",
     "output_type": "stream",
     "text": [
      "0.9017704169046259\n"
     ]
    }
   ],
   "source": [
    "accuracy1 = (g_temp_tp_viola +g_temp_tp_violin)/(g_temp_tp_viola +g_temp_fp_violin +g_temp_tp_violin +g_temp_fp_viola)\n",
    "print(accuracy1)"
   ]
  },
  {
   "cell_type": "code",
   "execution_count": 8,
   "metadata": {},
   "outputs": [
    {
     "name": "stdout",
     "output_type": "stream",
     "text": [
      "Count of segments: 1751\n"
     ]
    }
   ],
   "source": [
    "print(\"Count of segments: \" + str(g_temp_tp_viola +g_temp_fp_violin +g_temp_tp_violin +g_temp_fp_viola))"
   ]
  },
  {
   "cell_type": "code",
   "execution_count": 9,
   "metadata": {},
   "outputs": [
    {
     "name": "stdout",
     "output_type": "stream",
     "text": [
      "Count of training segments: 3613\n"
     ]
    }
   ],
   "source": [
    "print(\"Count of training segments: \"+str(count1))"
   ]
  },
  {
   "cell_type": "code",
   "execution_count": 11,
   "metadata": {},
   "outputs": [
    {
     "name": "stdout",
     "output_type": "stream",
     "text": [
      "Song level precision: 0.9333333333333333\n",
      "Song level recall: 0.9333333333333333\n",
      "macro_segment_precision:0.8955713253170379\n",
      "weighted_segment_precision:0.9110898566067718\n",
      "macro_segment_recall:0.9113743272681553\n",
      "weighted_segment_recall:0.901770416904626\n"
     ]
    }
   ],
   "source": [
    "song_precision_violin = tp_violin/(tp_violin+fp_violin)\n",
    "song_precision_viola = tp_viola/(tp_viola+fp_viola)\n",
    "song_precision = (song_precision_violin+song_precision_viola)/2\n",
    "print(\"Song level precision: \" +str(song_precision))\n",
    "\n",
    "song_recall_violin = tp_violin/(tp_violin+fp_viola)\n",
    "song_recall_viola = tp_viola/(tp_viola+fp_violin)\n",
    "song_recall = (song_recall_violin+song_recall_viola)/2\n",
    "print(\"Song level recall: \" +str(song_recall))\n",
    "\n",
    "total_segments = (g_temp_tp_viola +g_temp_fp_violin +g_temp_tp_violin +g_temp_fp_viola)\n",
    "segment_precision_violin = g_temp_tp_violin/(g_temp_tp_violin+g_temp_fp_violin)\n",
    "segment_precision_viola = g_temp_tp_viola/(g_temp_tp_viola+g_temp_fp_viola)\n",
    "macro_segment_precision = (segment_precision_violin+segment_precision_viola)/2\n",
    "print(\"macro_segment_precision:\" + str(macro_segment_precision))\n",
    "weighted_segment_precision = segment_precision_violin*((g_temp_tp_violin+g_temp_fp_viola)/total_segments)+segment_precision_viola*((g_temp_tp_viola+g_temp_fp_violin)/total_segments)\n",
    "print(\"weighted_segment_precision:\" + str(weighted_segment_precision))\n",
    "\n",
    "segment_recall_violin = g_temp_tp_violin/(g_temp_tp_violin+g_temp_fp_viola)\n",
    "segment_recall_viola = g_temp_tp_viola/(g_temp_tp_viola+g_temp_fp_violin)\n",
    "macro_segment_recall = (segment_recall_violin+segment_recall_viola)/2\n",
    "print(\"macro_segment_recall:\" + str(macro_segment_recall))\n",
    "weighted_segment_recall = segment_recall_violin*((g_temp_tp_violin+g_temp_fp_viola)/total_segments)+segment_recall_viola*((g_temp_tp_viola+g_temp_fp_violin)/total_segments)\n",
    "print(\"weighted_segment_recall:\" + str(weighted_segment_recall))"
   ]
  },
  {
   "cell_type": "code",
   "execution_count": 12,
   "metadata": {},
   "outputs": [
    {
     "name": "stdout",
     "output_type": "stream",
     "text": [
      "Song level F1: 0.9333333333333333\n",
      "Segment level macro F1: 0.9034037221470708\n",
      "Segment level weighted F1: 0.9064061823567773\n"
     ]
    }
   ],
   "source": [
    "song_f1 = (2*song_precision*song_recall)/(song_precision+song_recall)\n",
    "print(\"Song level F1: \" +str(song_f1))\n",
    "\n",
    "macro_segment_f1 = (2*macro_segment_precision*macro_segment_recall)/(macro_segment_precision+macro_segment_recall)\n",
    "print(\"Segment level macro F1: \" +str(macro_segment_f1))\n",
    "\n",
    "weighted_segment_f1 = (2*weighted_segment_precision*weighted_segment_recall)/(weighted_segment_precision+weighted_segment_recall)\n",
    "print(\"Segment level weighted F1: \" +str(weighted_segment_f1))\n"
   ]
  },
  {
   "cell_type": "code",
   "execution_count": null,
   "metadata": {},
   "outputs": [],
   "source": []
  }
 ],
 "metadata": {
  "kernelspec": {
   "display_name": "Python 3",
   "language": "python",
   "name": "python3"
  },
  "language_info": {
   "codemirror_mode": {
    "name": "ipython",
    "version": 3
   },
   "file_extension": ".py",
   "mimetype": "text/x-python",
   "name": "python",
   "nbconvert_exporter": "python",
   "pygments_lexer": "ipython3",
   "version": "3.6.9"
  }
 },
 "nbformat": 4,
 "nbformat_minor": 2
}
