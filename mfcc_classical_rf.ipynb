{
 "cells": [
  {
   "cell_type": "code",
   "execution_count": 1,
   "metadata": {},
   "outputs": [
    {
     "name": "stderr",
     "output_type": "stream",
     "text": [
      "/home/student/.local/lib/python3.6/site-packages/numba/core/errors.py:154: UserWarning: Insufficiently recent colorama version found. Numba requires colorama >= 0.3.9\n",
      "  warnings.warn(msg)\n",
      "/home/student/.local/lib/python3.6/site-packages/librosa/core/audio.py:162: UserWarning: PySoundFile failed. Trying audioread instead.\n",
      "  warnings.warn(\"PySoundFile failed. Trying audioread instead.\")\n"
     ]
    },
    {
     "name": "stdout",
     "output_type": "stream",
     "text": [
      "3306442\n"
     ]
    },
    {
     "name": "stderr",
     "output_type": "stream",
     "text": [
      "/home/student/.local/lib/python3.6/site-packages/librosa/core/audio.py:162: UserWarning: PySoundFile failed. Trying audioread instead.\n",
      "  warnings.warn(\"PySoundFile failed. Trying audioread instead.\")\n"
     ]
    },
    {
     "name": "stdout",
     "output_type": "stream",
     "text": [
      "2194064\n"
     ]
    },
    {
     "name": "stderr",
     "output_type": "stream",
     "text": [
      "/home/student/.local/lib/python3.6/site-packages/librosa/core/audio.py:162: UserWarning: PySoundFile failed. Trying audioread instead.\n",
      "  warnings.warn(\"PySoundFile failed. Trying audioread instead.\")\n"
     ]
    },
    {
     "name": "stdout",
     "output_type": "stream",
     "text": [
      "2693099\n"
     ]
    },
    {
     "name": "stderr",
     "output_type": "stream",
     "text": [
      "/home/student/.local/lib/python3.6/site-packages/librosa/core/audio.py:162: UserWarning: PySoundFile failed. Trying audioread instead.\n",
      "  warnings.warn(\"PySoundFile failed. Trying audioread instead.\")\n"
     ]
    },
    {
     "name": "stdout",
     "output_type": "stream",
     "text": [
      "2756603\n"
     ]
    },
    {
     "name": "stderr",
     "output_type": "stream",
     "text": [
      "/home/student/.local/lib/python3.6/site-packages/librosa/core/audio.py:162: UserWarning: PySoundFile failed. Trying audioread instead.\n",
      "  warnings.warn(\"PySoundFile failed. Trying audioread instead.\")\n"
     ]
    },
    {
     "name": "stdout",
     "output_type": "stream",
     "text": [
      "4193381\n"
     ]
    },
    {
     "name": "stderr",
     "output_type": "stream",
     "text": [
      "/home/student/.local/lib/python3.6/site-packages/librosa/core/audio.py:162: UserWarning: PySoundFile failed. Trying audioread instead.\n",
      "  warnings.warn(\"PySoundFile failed. Trying audioread instead.\")\n"
     ]
    },
    {
     "name": "stdout",
     "output_type": "stream",
     "text": [
      "4855940\n"
     ]
    },
    {
     "name": "stderr",
     "output_type": "stream",
     "text": [
      "/home/student/.local/lib/python3.6/site-packages/librosa/core/audio.py:162: UserWarning: PySoundFile failed. Trying audioread instead.\n",
      "  warnings.warn(\"PySoundFile failed. Trying audioread instead.\")\n"
     ]
    },
    {
     "name": "stdout",
     "output_type": "stream",
     "text": [
      "2339064\n"
     ]
    },
    {
     "name": "stderr",
     "output_type": "stream",
     "text": [
      "/home/student/.local/lib/python3.6/site-packages/librosa/core/audio.py:162: UserWarning: PySoundFile failed. Trying audioread instead.\n",
      "  warnings.warn(\"PySoundFile failed. Trying audioread instead.\")\n"
     ]
    },
    {
     "name": "stdout",
     "output_type": "stream",
     "text": [
      "2111508\n"
     ]
    },
    {
     "name": "stderr",
     "output_type": "stream",
     "text": [
      "/home/student/.local/lib/python3.6/site-packages/librosa/core/audio.py:162: UserWarning: PySoundFile failed. Trying audioread instead.\n",
      "  warnings.warn(\"PySoundFile failed. Trying audioread instead.\")\n"
     ]
    },
    {
     "name": "stdout",
     "output_type": "stream",
     "text": [
      "2226874\n"
     ]
    },
    {
     "name": "stderr",
     "output_type": "stream",
     "text": [
      "/home/student/.local/lib/python3.6/site-packages/librosa/core/audio.py:162: UserWarning: PySoundFile failed. Trying audioread instead.\n",
      "  warnings.warn(\"PySoundFile failed. Trying audioread instead.\")\n"
     ]
    },
    {
     "name": "stdout",
     "output_type": "stream",
     "text": [
      "3097408\n"
     ]
    },
    {
     "name": "stderr",
     "output_type": "stream",
     "text": [
      "/home/student/.local/lib/python3.6/site-packages/librosa/core/audio.py:162: UserWarning: PySoundFile failed. Trying audioread instead.\n",
      "  warnings.warn(\"PySoundFile failed. Trying audioread instead.\")\n"
     ]
    },
    {
     "name": "stdout",
     "output_type": "stream",
     "text": [
      "7572852\n"
     ]
    },
    {
     "name": "stderr",
     "output_type": "stream",
     "text": [
      "/home/student/.local/lib/python3.6/site-packages/librosa/core/audio.py:162: UserWarning: PySoundFile failed. Trying audioread instead.\n",
      "  warnings.warn(\"PySoundFile failed. Trying audioread instead.\")\n"
     ]
    },
    {
     "name": "stdout",
     "output_type": "stream",
     "text": [
      "4686066\n"
     ]
    },
    {
     "name": "stderr",
     "output_type": "stream",
     "text": [
      "/home/student/.local/lib/python3.6/site-packages/librosa/core/audio.py:162: UserWarning: PySoundFile failed. Trying audioread instead.\n",
      "  warnings.warn(\"PySoundFile failed. Trying audioread instead.\")\n"
     ]
    },
    {
     "name": "stdout",
     "output_type": "stream",
     "text": [
      "1694592\n"
     ]
    },
    {
     "name": "stderr",
     "output_type": "stream",
     "text": [
      "/home/student/.local/lib/python3.6/site-packages/librosa/core/audio.py:162: UserWarning: PySoundFile failed. Trying audioread instead.\n",
      "  warnings.warn(\"PySoundFile failed. Trying audioread instead.\")\n"
     ]
    },
    {
     "name": "stdout",
     "output_type": "stream",
     "text": [
      "3608086\n"
     ]
    },
    {
     "name": "stderr",
     "output_type": "stream",
     "text": [
      "/home/student/.local/lib/python3.6/site-packages/librosa/core/audio.py:162: UserWarning: PySoundFile failed. Trying audioread instead.\n",
      "  warnings.warn(\"PySoundFile failed. Trying audioread instead.\")\n",
      "/home/student/.local/lib/python3.6/site-packages/librosa/core/audio.py:162: UserWarning: PySoundFile failed. Trying audioread instead.\n",
      "  warnings.warn(\"PySoundFile failed. Trying audioread instead.\")\n",
      "/home/student/.local/lib/python3.6/site-packages/librosa/core/audio.py:162: UserWarning: PySoundFile failed. Trying audioread instead.\n",
      "  warnings.warn(\"PySoundFile failed. Trying audioread instead.\")\n",
      "/home/student/.local/lib/python3.6/site-packages/librosa/core/audio.py:162: UserWarning: PySoundFile failed. Trying audioread instead.\n",
      "  warnings.warn(\"PySoundFile failed. Trying audioread instead.\")\n",
      "/home/student/.local/lib/python3.6/site-packages/librosa/core/spectrum.py:224: UserWarning: n_fft=2048 is too small for input signal of length=177\n",
      "  n_fft, y.shape[-1]\n",
      "/home/student/.local/lib/python3.6/site-packages/librosa/core/audio.py:162: UserWarning: PySoundFile failed. Trying audioread instead.\n",
      "  warnings.warn(\"PySoundFile failed. Trying audioread instead.\")\n",
      "/home/student/.local/lib/python3.6/site-packages/librosa/core/audio.py:162: UserWarning: PySoundFile failed. Trying audioread instead.\n",
      "  warnings.warn(\"PySoundFile failed. Trying audioread instead.\")\n",
      "/home/student/.local/lib/python3.6/site-packages/librosa/core/audio.py:162: UserWarning: PySoundFile failed. Trying audioread instead.\n",
      "  warnings.warn(\"PySoundFile failed. Trying audioread instead.\")\n",
      "/home/student/.local/lib/python3.6/site-packages/librosa/core/audio.py:162: UserWarning: PySoundFile failed. Trying audioread instead.\n",
      "  warnings.warn(\"PySoundFile failed. Trying audioread instead.\")\n",
      "/home/student/.local/lib/python3.6/site-packages/librosa/core/audio.py:162: UserWarning: PySoundFile failed. Trying audioread instead.\n",
      "  warnings.warn(\"PySoundFile failed. Trying audioread instead.\")\n",
      "/home/student/.local/lib/python3.6/site-packages/librosa/core/spectrum.py:224: UserWarning: n_fft=2048 is too small for input signal of length=1235\n",
      "  n_fft, y.shape[-1]\n",
      "/home/student/.local/lib/python3.6/site-packages/librosa/core/audio.py:162: UserWarning: PySoundFile failed. Trying audioread instead.\n",
      "  warnings.warn(\"PySoundFile failed. Trying audioread instead.\")\n",
      "/home/student/.local/lib/python3.6/site-packages/librosa/core/audio.py:162: UserWarning: PySoundFile failed. Trying audioread instead.\n",
      "  warnings.warn(\"PySoundFile failed. Trying audioread instead.\")\n",
      "/home/student/.local/lib/python3.6/site-packages/librosa/core/audio.py:162: UserWarning: PySoundFile failed. Trying audioread instead.\n",
      "  warnings.warn(\"PySoundFile failed. Trying audioread instead.\")\n",
      "/home/student/.local/lib/python3.6/site-packages/librosa/core/audio.py:162: UserWarning: PySoundFile failed. Trying audioread instead.\n",
      "  warnings.warn(\"PySoundFile failed. Trying audioread instead.\")\n",
      "/home/student/.local/lib/python3.6/site-packages/librosa/core/audio.py:162: UserWarning: PySoundFile failed. Trying audioread instead.\n",
      "  warnings.warn(\"PySoundFile failed. Trying audioread instead.\")\n"
     ]
    }
   ],
   "source": [
    "import os\n",
    "import numpy, scipy, matplotlib.pyplot as plt, IPython.display as ipd\n",
    "import librosa, librosa.display\n",
    "import numpy as np\n",
    "import math\n",
    "os.chdir('/home/student/Downloads/new_violin_viola/classical/viola/solo_train')\n",
    "x_train=[]\n",
    "y_train=[]\n",
    "mfcc_list_mean = []\n",
    "mfcc_list_std = []\n",
    "count1=0\n",
    "for f_name in os.listdir('/home/student/Downloads/new_violin_viola/classical/viola/solo_train'):\n",
    "    if f_name.endswith('.wav') or f_name.endswith('.mp3'):\n",
    "        x, sr = librosa.load(f_name)\n",
    "        print(len(x))\n",
    "        start=0\n",
    "        end = 4*22050\n",
    "\n",
    "        x = x/x.max()\n",
    "        length = len(x)\n",
    "        count = math.ceil(len(x)/(22050*4))\n",
    "        count1+=count\n",
    "        for i in range(count):\n",
    "            if end >= length:\n",
    "                end = length\n",
    "            temp = x[start:end]\n",
    "            \n",
    "            mfcc = librosa.feature.mfcc(temp, n_mfcc=13)\n",
    "            variable = []\n",
    "            temp1 =list(np.mean(mfcc,1))\n",
    "            temp2=list(np.std(mfcc,1))\n",
    "            variable = temp1+temp2\n",
    "            x_train.append(variable)\n",
    "            y_train.append(\"viola\")\n",
    "            start = end\n",
    "            end = end+4*22050\n",
    "os.chdir('/home/student/Downloads/new_violin_viola/classical/violin/solo_train')\n",
    "for f_name in os.listdir('/home/student/Downloads/new_violin_viola/classical/violin/solo_train'):\n",
    "    if f_name.endswith('.wav') or f_name.endswith('.mp3'):\n",
    "        x, sr = librosa.load(f_name)\n",
    "        start=0\n",
    "        end = 4*22050\n",
    "\n",
    "        x = x/x.max()\n",
    "        length = len(x)\n",
    "        count = math.ceil(len(x)/(22050*4))\n",
    "        count1+=count\n",
    "        for i in range(count):\n",
    "            if end >= length:\n",
    "                end = length\n",
    "            temp = x[start:end]\n",
    "            \n",
    "            mfcc = librosa.feature.mfcc(temp, n_mfcc=13)\n",
    "            variable = []\n",
    "            temp1 =list(np.mean(mfcc,1))\n",
    "            temp2=list(np.std(mfcc,1))\n",
    "            variable = temp1+temp2\n",
    "            x_train.append(variable)\n",
    "            y_train.append(\"violin\")\n",
    "            start = end\n",
    "            end = end+4*22050\n",
    "        \n",
    "        "
   ]
  },
  {
   "cell_type": "code",
   "execution_count": 2,
   "metadata": {},
   "outputs": [
    {
     "name": "stdout",
     "output_type": "stream",
     "text": [
      "1183 1183\n"
     ]
    },
    {
     "data": {
      "text/plain": [
       "RandomForestClassifier(bootstrap=True, ccp_alpha=0.0, class_weight=None,\n",
       "                       criterion='gini', max_depth=10, max_features='auto',\n",
       "                       max_leaf_nodes=None, max_samples=None,\n",
       "                       min_impurity_decrease=0.0, min_impurity_split=None,\n",
       "                       min_samples_leaf=1, min_samples_split=2,\n",
       "                       min_weight_fraction_leaf=0.0, n_estimators=100,\n",
       "                       n_jobs=None, oob_score=False, random_state=0, verbose=0,\n",
       "                       warm_start=False)"
      ]
     },
     "execution_count": 2,
     "metadata": {},
     "output_type": "execute_result"
    }
   ],
   "source": [
    "from sklearn.ensemble import RandomForestClassifier\n",
    "from sklearn.metrics import confusion_matrix\n",
    "from sklearn.metrics import accuracy_score\n",
    "from sklearn.svm import SVC\n",
    "from sklearn.preprocessing import StandardScaler\n",
    "#scaler = StandardScaler()\n",
    "#scaler.fit(x_train)\n",
    "#x_train = scaler.transform(x_train)\n",
    "from sklearn.ensemble import RandomForestClassifier\n",
    "from sklearn.metrics import confusion_matrix\n",
    "from sklearn.metrics import accuracy_score\n",
    "classifier = RandomForestClassifier(max_depth=10, random_state=0)\n",
    "#classifier = SVC(kernel='rbf', random_state=0, gamma=.1, C=1,probability = True)\n",
    "print(len(x_train), len(y_train))\n",
    "classifier.fit(x_train, y_train)"
   ]
  },
  {
   "cell_type": "code",
   "execution_count": 3,
   "metadata": {},
   "outputs": [
    {
     "data": {
      "text/plain": [
       "2094574"
      ]
     },
     "execution_count": 3,
     "metadata": {},
     "output_type": "execute_result"
    }
   ],
   "source": [
    "length"
   ]
  },
  {
   "cell_type": "code",
   "execution_count": 4,
   "metadata": {},
   "outputs": [
    {
     "name": "stdout",
     "output_type": "stream",
     "text": [
      "Viola Haydn Divertimento 3rd Movement.mp3\n"
     ]
    },
    {
     "name": "stderr",
     "output_type": "stream",
     "text": [
      "/home/student/.local/lib/python3.6/site-packages/librosa/core/audio.py:162: UserWarning: PySoundFile failed. Trying audioread instead.\n",
      "  warnings.warn(\"PySoundFile failed. Trying audioread instead.\")\n"
     ]
    },
    {
     "name": "stdout",
     "output_type": "stream",
     "text": [
      "Confidence interval for viola:0.0 Confidence interval for violin:1.0\n",
      "True label: Viola\n",
      "Predicted: Violin\n",
      "Suzuki Viola Book 2 Beethoven Minuet in G.mp3\n"
     ]
    },
    {
     "name": "stderr",
     "output_type": "stream",
     "text": [
      "/home/student/.local/lib/python3.6/site-packages/librosa/core/audio.py:162: UserWarning: PySoundFile failed. Trying audioread instead.\n",
      "  warnings.warn(\"PySoundFile failed. Trying audioread instead.\")\n"
     ]
    },
    {
     "name": "stdout",
     "output_type": "stream",
     "text": [
      "Confidence interval for viola:0.22916666666666666 Confidence interval for violin:0.7708333333333334\n",
      "True label: Viola\n",
      "Predicted: Violin\n",
      "Campagnoli Caprice # 2 for Solo Viola.mp3\n"
     ]
    },
    {
     "name": "stderr",
     "output_type": "stream",
     "text": [
      "/home/student/.local/lib/python3.6/site-packages/librosa/core/audio.py:162: UserWarning: PySoundFile failed. Trying audioread instead.\n",
      "  warnings.warn(\"PySoundFile failed. Trying audioread instead.\")\n"
     ]
    },
    {
     "name": "stdout",
     "output_type": "stream",
     "text": [
      "Confidence interval for viola:1.0 Confidence interval for violin:0.0\n",
      "True label: Viola\n",
      "Predicted: Viola\n",
      "Mozart - Adagio and Rondo - #5 from Suzuki Viola Book 6.mp3\n"
     ]
    },
    {
     "name": "stderr",
     "output_type": "stream",
     "text": [
      "/home/student/.local/lib/python3.6/site-packages/librosa/core/audio.py:162: UserWarning: PySoundFile failed. Trying audioread instead.\n",
      "  warnings.warn(\"PySoundFile failed. Trying audioread instead.\")\n",
      "/home/student/.local/lib/python3.6/site-packages/librosa/core/spectrum.py:224: UserWarning: n_fft=2048 is too small for input signal of length=176\n",
      "  n_fft, y.shape[-1]\n",
      "/home/student/.local/lib/python3.6/site-packages/librosa/core/audio.py:162: UserWarning: PySoundFile failed. Trying audioread instead.\n",
      "  warnings.warn(\"PySoundFile failed. Trying audioread instead.\")\n"
     ]
    },
    {
     "name": "stdout",
     "output_type": "stream",
     "text": [
      "Confidence interval for viola:0.3709677419354839 Confidence interval for violin:0.6290322580645161\n",
      "True label: Viola\n",
      "Predicted: Violin\n",
      "Campagnoli Caprice #4 for Solo Viola.mp3\n",
      "Confidence interval for viola:0.9285714285714286 Confidence interval for violin:0.07142857142857142\n",
      "True label: Viola\n",
      "Predicted: Viola\n",
      "Minuet in D Mozart Suzuki Viola Book 3.mp3\n"
     ]
    },
    {
     "name": "stderr",
     "output_type": "stream",
     "text": [
      "/home/student/.local/lib/python3.6/site-packages/librosa/core/audio.py:162: UserWarning: PySoundFile failed. Trying audioread instead.\n",
      "  warnings.warn(\"PySoundFile failed. Trying audioread instead.\")\n"
     ]
    },
    {
     "name": "stdout",
     "output_type": "stream",
     "text": [
      "Confidence interval for viola:0.75 Confidence interval for violin:0.25\n",
      "True label: Viola\n",
      "Predicted: Viola\n"
     ]
    }
   ],
   "source": [
    "tp_viola = 0\n",
    "fp_violin =0\n",
    "g_temp_tp_viola =0\n",
    "g_temp_fp_violin =0\n",
    "g_temp_tp_violin = 0\n",
    "g_temp_fp_viola=0\n",
    "os.chdir('/home/student/Downloads/new_violin_viola/classical/viola/solo_test')\n",
    "for f_name in os.listdir('/home/student/Downloads/new_violin_viola/classical/viola/solo_test'):\n",
    "    if f_name.endswith('.wav') or f_name.endswith('.mp3'):\n",
    "        print(f_name)\n",
    "        x, sr = librosa.load(f_name)\n",
    "        start=0\n",
    "        end = 4*22050+1\n",
    "\n",
    "        x = x/x.max()\n",
    "        length = len(x)\n",
    "        count = math.ceil(len(x)/(22050*4))\n",
    "        temp_tp_viola = 0\n",
    "        temp_fp_violin =0\n",
    "        for i in range(count):\n",
    "            \n",
    "            if end >= length:\n",
    "                end = length\n",
    "            temp = x[start:end]\n",
    "            mfcc = librosa.feature.mfcc(temp, n_mfcc=13)\n",
    "            variable = []\n",
    "            temp1 =list(np.mean(mfcc,1))\n",
    "            temp2=list(np.std(mfcc,1))\n",
    "            variable = temp1+temp2\n",
    "            y_pred = classifier.predict([variable])\n",
    "            if y_pred == \"viola\":\n",
    "                temp_tp_viola+=1\n",
    "                g_temp_tp_viola+=1\n",
    "            else:\n",
    "                temp_fp_violin+=1\n",
    "                g_temp_fp_violin+=1\n",
    "            start = end\n",
    "            end = end+4*22050\n",
    "        print(\"Confidence interval for viola:\" + str(temp_tp_viola/(temp_tp_viola+temp_fp_violin)) +\" Confidence interval for violin:\"+str(temp_fp_violin/(temp_tp_viola+temp_fp_violin)))\n",
    "        print(\"True label: Viola\")\n",
    "        if temp_tp_viola>temp_fp_violin:\n",
    "            tp_viola+=1\n",
    "            print(\"Predicted: Viola\")\n",
    "        else:\n",
    "            fp_violin+=1\n",
    "            print(\"Predicted: Violin\")\n",
    "            "
   ]
  },
  {
   "cell_type": "code",
   "execution_count": 5,
   "metadata": {},
   "outputs": [
    {
     "name": "stdout",
     "output_type": "stream",
     "text": [
      "Mozart, Alla Turca Violin.mp3\n"
     ]
    },
    {
     "name": "stderr",
     "output_type": "stream",
     "text": [
      "/home/student/.local/lib/python3.6/site-packages/librosa/core/audio.py:162: UserWarning: PySoundFile failed. Trying audioread instead.\n",
      "  warnings.warn(\"PySoundFile failed. Trying audioread instead.\")\n"
     ]
    },
    {
     "name": "stdout",
     "output_type": "stream",
     "text": [
      "Confidence interval for violin:1.0 Confidence interval for viola:0.0\n",
      "True label: Violin\n",
      "Predicted: Violin\n",
      "Ave María, F. Schubert (Violín solo).mp3\n"
     ]
    },
    {
     "name": "stderr",
     "output_type": "stream",
     "text": [
      "/home/student/.local/lib/python3.6/site-packages/librosa/core/audio.py:162: UserWarning: PySoundFile failed. Trying audioread instead.\n",
      "  warnings.warn(\"PySoundFile failed. Trying audioread instead.\")\n"
     ]
    },
    {
     "name": "stdout",
     "output_type": "stream",
     "text": [
      "Confidence interval for violin:0.88 Confidence interval for viola:0.12\n",
      "True label: Violin\n",
      "Predicted: Violin\n",
      "Mozart The Magic Flute - Duet Pa Pa Pa for solo violin.mp3\n"
     ]
    },
    {
     "name": "stderr",
     "output_type": "stream",
     "text": [
      "/home/student/.local/lib/python3.6/site-packages/librosa/core/audio.py:162: UserWarning: PySoundFile failed. Trying audioread instead.\n",
      "  warnings.warn(\"PySoundFile failed. Trying audioread instead.\")\n"
     ]
    },
    {
     "name": "stdout",
     "output_type": "stream",
     "text": [
      "Confidence interval for violin:1.0 Confidence interval for viola:0.0\n",
      "True label: Violin\n",
      "Predicted: Violin\n",
      "SERENADE - by Franz Schubert - Classical Violin Lessons Online by Paul Huppert.mp3\n"
     ]
    },
    {
     "name": "stderr",
     "output_type": "stream",
     "text": [
      "/home/student/.local/lib/python3.6/site-packages/librosa/core/audio.py:162: UserWarning: PySoundFile failed. Trying audioread instead.\n",
      "  warnings.warn(\"PySoundFile failed. Trying audioread instead.\")\n"
     ]
    },
    {
     "name": "stdout",
     "output_type": "stream",
     "text": [
      "Confidence interval for violin:1.0 Confidence interval for viola:0.0\n",
      "True label: Violin\n",
      "Predicted: Violin\n",
      "W.A.Mozart-Eine kleine Nachtmusik [Violin Solo].mp3\n"
     ]
    },
    {
     "name": "stderr",
     "output_type": "stream",
     "text": [
      "/home/student/.local/lib/python3.6/site-packages/librosa/core/audio.py:162: UserWarning: PySoundFile failed. Trying audioread instead.\n",
      "  warnings.warn(\"PySoundFile failed. Trying audioread instead.\")\n"
     ]
    },
    {
     "name": "stdout",
     "output_type": "stream",
     "text": [
      "Confidence interval for violin:0.9459459459459459 Confidence interval for viola:0.05405405405405406\n",
      "True label: Violin\n",
      "Predicted: Violin\n",
      "Mozart Turkish March for solo violin.mp3\n"
     ]
    },
    {
     "name": "stderr",
     "output_type": "stream",
     "text": [
      "/home/student/.local/lib/python3.6/site-packages/librosa/core/audio.py:162: UserWarning: PySoundFile failed. Trying audioread instead.\n",
      "  warnings.warn(\"PySoundFile failed. Trying audioread instead.\")\n"
     ]
    },
    {
     "name": "stdout",
     "output_type": "stream",
     "text": [
      "Confidence interval for violin:0.864406779661017 Confidence interval for viola:0.13559322033898305\n",
      "True label: Violin\n",
      "Predicted: Violin\n"
     ]
    }
   ],
   "source": [
    "tp_violin = 0\n",
    "fp_viola =0\n",
    "os.chdir('/home/student/Downloads/new_violin_viola/classical/violin/solo_test')\n",
    "for f_name in os.listdir('/home/student/Downloads/new_violin_viola/classical/violin/solo_test'):\n",
    "    if f_name.endswith('.wav') or f_name.endswith('.mp3'):\n",
    "        print(f_name)\n",
    "        x, sr = librosa.load(f_name)\n",
    "        start=0\n",
    "        end = 4*22050+1\n",
    "\n",
    "        x = x/x.max()\n",
    "        length = len(x)\n",
    "        count = math.ceil(len(x)/(22050*4))\n",
    "        temp_tp_violin = 0\n",
    "        temp_fp_viola =0\n",
    "        for i in range(count):\n",
    "            \n",
    "            if end >= length:\n",
    "                end = length\n",
    "            temp = x[start:end]\n",
    "            mfcc = librosa.feature.mfcc(temp, n_mfcc=13)\n",
    "            variable = []\n",
    "            temp1 =list(np.mean(mfcc,1))\n",
    "            temp2=list(np.std(mfcc,1))\n",
    "            variable = temp1+temp2\n",
    "            y_pred = classifier.predict([variable])\n",
    "            if y_pred == \"violin\":\n",
    "                temp_tp_violin+=1\n",
    "                g_temp_tp_violin+=1\n",
    "            else:\n",
    "                temp_fp_viola+=1\n",
    "                g_temp_fp_viola+=1\n",
    "            start = end\n",
    "            end = end+4*22050\n",
    "        print(\"Confidence interval for violin:\" + str(temp_tp_violin/(temp_tp_violin+temp_fp_viola)) +\" Confidence interval for viola:\"+str(temp_fp_viola/(temp_tp_violin+temp_fp_viola)))\n",
    "        print(\"True label: Violin\")\n",
    "        if temp_tp_violin>temp_fp_viola:\n",
    "            tp_violin+=1\n",
    "            print(\"Predicted: Violin\")\n",
    "        else:\n",
    "            fp_viola+=1\n",
    "            print(\"Predicted: Viola\")"
   ]
  },
  {
   "cell_type": "code",
   "execution_count": 6,
   "metadata": {},
   "outputs": [
    {
     "name": "stdout",
     "output_type": "stream",
     "text": [
      "0.75\n"
     ]
    }
   ],
   "source": [
    "accuracy = (tp_violin+tp_viola)/(tp_violin+tp_viola+fp_viola+fp_violin)\n",
    "print(accuracy)"
   ]
  },
  {
   "cell_type": "code",
   "execution_count": 7,
   "metadata": {},
   "outputs": [
    {
     "name": "stdout",
     "output_type": "stream",
     "text": [
      "0.7519083969465649\n"
     ]
    }
   ],
   "source": [
    "accuracy1 = (g_temp_tp_viola +g_temp_tp_violin)/(g_temp_tp_viola +g_temp_fp_violin +g_temp_tp_violin +g_temp_fp_viola)\n",
    "print(accuracy1)"
   ]
  },
  {
   "cell_type": "code",
   "execution_count": 8,
   "metadata": {},
   "outputs": [
    {
     "name": "stdout",
     "output_type": "stream",
     "text": [
      "Count of segments: 524\n"
     ]
    }
   ],
   "source": [
    "print(\"Count of segments: \" + str(g_temp_tp_viola +g_temp_fp_violin +g_temp_tp_violin +g_temp_fp_viola))"
   ]
  },
  {
   "cell_type": "code",
   "execution_count": 9,
   "metadata": {},
   "outputs": [
    {
     "name": "stdout",
     "output_type": "stream",
     "text": [
      "Count of training segments: 1183\n"
     ]
    }
   ],
   "source": [
    "print(\"Count of training segments: \"+str(count1))"
   ]
  },
  {
   "cell_type": "code",
   "execution_count": 11,
   "metadata": {},
   "outputs": [
    {
     "name": "stdout",
     "output_type": "stream",
     "text": [
      "Song level precision: 0.8333333333333333\n",
      "Song level recall: 0.75\n",
      "macro_segment_precision:0.7966595383821252\n",
      "weighted_segment_precision:0.7892010148095319\n",
      "macro_segment_recall:0.735800949534025\n",
      "weighted_segment_recall:0.7519083969465649\n"
     ]
    }
   ],
   "source": [
    "song_precision_violin = tp_violin/(tp_violin+fp_violin)\n",
    "song_precision_viola = tp_viola/(tp_viola+fp_viola)\n",
    "song_precision = (song_precision_violin+song_precision_viola)/2\n",
    "print(\"Song level precision: \" +str(song_precision))\n",
    "\n",
    "song_recall_violin = tp_violin/(tp_violin+fp_viola)\n",
    "song_recall_viola = tp_viola/(tp_viola+fp_violin)\n",
    "song_recall = (song_recall_violin+song_recall_viola)/2\n",
    "print(\"Song level recall: \" +str(song_recall))\n",
    "\n",
    "total_segments = (g_temp_tp_viola +g_temp_fp_violin +g_temp_tp_violin +g_temp_fp_viola)\n",
    "segment_precision_violin = g_temp_tp_violin/(g_temp_tp_violin+g_temp_fp_violin)\n",
    "segment_precision_viola = g_temp_tp_viola/(g_temp_tp_viola+g_temp_fp_viola)\n",
    "macro_segment_precision = (segment_precision_violin+segment_precision_viola)/2\n",
    "print(\"macro_segment_precision:\" + str(macro_segment_precision))\n",
    "weighted_segment_precision = segment_precision_violin*((g_temp_tp_violin+g_temp_fp_viola)/total_segments)+segment_precision_viola*((g_temp_tp_viola+g_temp_fp_violin)/total_segments)\n",
    "print(\"weighted_segment_precision:\" + str(weighted_segment_precision))\n",
    "\n",
    "segment_recall_violin = g_temp_tp_violin/(g_temp_tp_violin+g_temp_fp_viola)\n",
    "segment_recall_viola = g_temp_tp_viola/(g_temp_tp_viola+g_temp_fp_violin)\n",
    "macro_segment_recall = (segment_recall_violin+segment_recall_viola)/2\n",
    "print(\"macro_segment_recall:\" + str(macro_segment_recall))\n",
    "weighted_segment_recall = segment_recall_violin*((g_temp_tp_violin+g_temp_fp_viola)/total_segments)+segment_recall_viola*((g_temp_tp_viola+g_temp_fp_violin)/total_segments)\n",
    "print(\"weighted_segment_recall:\" + str(weighted_segment_recall))"
   ]
  },
  {
   "cell_type": "code",
   "execution_count": 12,
   "metadata": {},
   "outputs": [
    {
     "name": "stdout",
     "output_type": "stream",
     "text": [
      "Song level F1: 0.7894736842105263\n",
      "Segment level macro F1: 0.7650218056767011\n",
      "Segment level weighted F1: 0.7701034921821017\n"
     ]
    }
   ],
   "source": [
    "song_f1 = (2*song_precision*song_recall)/(song_precision+song_recall)\n",
    "print(\"Song level F1: \" +str(song_f1))\n",
    "\n",
    "macro_segment_f1 = (2*macro_segment_precision*macro_segment_recall)/(macro_segment_precision+macro_segment_recall)\n",
    "print(\"Segment level macro F1: \" +str(macro_segment_f1))\n",
    "\n",
    "weighted_segment_f1 = (2*weighted_segment_precision*weighted_segment_recall)/(weighted_segment_precision+weighted_segment_recall)\n",
    "print(\"Segment level weighted F1: \" +str(weighted_segment_f1))"
   ]
  },
  {
   "cell_type": "code",
   "execution_count": null,
   "metadata": {},
   "outputs": [],
   "source": []
  }
 ],
 "metadata": {
  "kernelspec": {
   "display_name": "Python 3",
   "language": "python",
   "name": "python3"
  },
  "language_info": {
   "codemirror_mode": {
    "name": "ipython",
    "version": 3
   },
   "file_extension": ".py",
   "mimetype": "text/x-python",
   "name": "python",
   "nbconvert_exporter": "python",
   "pygments_lexer": "ipython3",
   "version": "3.6.9"
  }
 },
 "nbformat": 4,
 "nbformat_minor": 2
}
