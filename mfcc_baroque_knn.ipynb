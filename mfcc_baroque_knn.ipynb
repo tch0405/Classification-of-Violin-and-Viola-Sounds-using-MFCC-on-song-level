{
 "cells": [
  {
   "cell_type": "code",
   "execution_count": 1,
   "metadata": {},
   "outputs": [
    {
     "name": "stderr",
     "output_type": "stream",
     "text": [
      "/home/student/.local/lib/python3.6/site-packages/numba/core/errors.py:154: UserWarning: Insufficiently recent colorama version found. Numba requires colorama >= 0.3.9\n",
      "  warnings.warn(msg)\n",
      "/home/student/.local/lib/python3.6/site-packages/librosa/core/audio.py:162: UserWarning: PySoundFile failed. Trying audioread instead.\n",
      "  warnings.warn(\"PySoundFile failed. Trying audioread instead.\")\n"
     ]
    },
    {
     "name": "stdout",
     "output_type": "stream",
     "text": [
      "2050650\n"
     ]
    },
    {
     "name": "stderr",
     "output_type": "stream",
     "text": [
      "/home/student/.local/lib/python3.6/site-packages/librosa/core/audio.py:162: UserWarning: PySoundFile failed. Trying audioread instead.\n",
      "  warnings.warn(\"PySoundFile failed. Trying audioread instead.\")\n"
     ]
    },
    {
     "name": "stdout",
     "output_type": "stream",
     "text": [
      "2227403\n"
     ]
    },
    {
     "name": "stderr",
     "output_type": "stream",
     "text": [
      "/home/student/.local/lib/python3.6/site-packages/librosa/core/audio.py:162: UserWarning: PySoundFile failed. Trying audioread instead.\n",
      "  warnings.warn(\"PySoundFile failed. Trying audioread instead.\")\n"
     ]
    },
    {
     "name": "stdout",
     "output_type": "stream",
     "text": [
      "4365900\n"
     ]
    },
    {
     "name": "stderr",
     "output_type": "stream",
     "text": [
      "/home/student/.local/lib/python3.6/site-packages/librosa/core/audio.py:162: UserWarning: PySoundFile failed. Trying audioread instead.\n",
      "  warnings.warn(\"PySoundFile failed. Trying audioread instead.\")\n"
     ]
    },
    {
     "name": "stdout",
     "output_type": "stream",
     "text": [
      "3286332\n"
     ]
    },
    {
     "name": "stderr",
     "output_type": "stream",
     "text": [
      "/home/student/.local/lib/python3.6/site-packages/librosa/core/audio.py:162: UserWarning: PySoundFile failed. Trying audioread instead.\n",
      "  warnings.warn(\"PySoundFile failed. Trying audioread instead.\")\n"
     ]
    },
    {
     "name": "stdout",
     "output_type": "stream",
     "text": [
      "926100\n"
     ]
    },
    {
     "name": "stderr",
     "output_type": "stream",
     "text": [
      "/home/student/.local/lib/python3.6/site-packages/librosa/core/audio.py:162: UserWarning: PySoundFile failed. Trying audioread instead.\n",
      "  warnings.warn(\"PySoundFile failed. Trying audioread instead.\")\n"
     ]
    },
    {
     "name": "stdout",
     "output_type": "stream",
     "text": [
      "6571077\n"
     ]
    },
    {
     "name": "stderr",
     "output_type": "stream",
     "text": [
      "/home/student/.local/lib/python3.6/site-packages/librosa/core/audio.py:162: UserWarning: PySoundFile failed. Trying audioread instead.\n",
      "  warnings.warn(\"PySoundFile failed. Trying audioread instead.\")\n"
     ]
    },
    {
     "name": "stdout",
     "output_type": "stream",
     "text": [
      "1455300\n"
     ]
    },
    {
     "name": "stderr",
     "output_type": "stream",
     "text": [
      "/home/student/.local/lib/python3.6/site-packages/librosa/core/audio.py:162: UserWarning: PySoundFile failed. Trying audioread instead.\n",
      "  warnings.warn(\"PySoundFile failed. Trying audioread instead.\")\n"
     ]
    },
    {
     "name": "stdout",
     "output_type": "stream",
     "text": [
      "1962274\n"
     ]
    },
    {
     "name": "stderr",
     "output_type": "stream",
     "text": [
      "/home/student/.local/lib/python3.6/site-packages/librosa/core/audio.py:162: UserWarning: PySoundFile failed. Trying audioread instead.\n",
      "  warnings.warn(\"PySoundFile failed. Trying audioread instead.\")\n"
     ]
    },
    {
     "name": "stdout",
     "output_type": "stream",
     "text": [
      "1940577\n"
     ]
    },
    {
     "name": "stderr",
     "output_type": "stream",
     "text": [
      "/home/student/.local/lib/python3.6/site-packages/librosa/core/spectrum.py:224: UserWarning: n_fft=2048 is too small for input signal of length=177\n",
      "  n_fft, y.shape[-1]\n",
      "/home/student/.local/lib/python3.6/site-packages/librosa/core/audio.py:162: UserWarning: PySoundFile failed. Trying audioread instead.\n",
      "  warnings.warn(\"PySoundFile failed. Trying audioread instead.\")\n"
     ]
    },
    {
     "name": "stdout",
     "output_type": "stream",
     "text": [
      "2315250\n"
     ]
    },
    {
     "name": "stderr",
     "output_type": "stream",
     "text": [
      "/home/student/.local/lib/python3.6/site-packages/librosa/core/audio.py:162: UserWarning: PySoundFile failed. Trying audioread instead.\n",
      "  warnings.warn(\"PySoundFile failed. Trying audioread instead.\")\n"
     ]
    },
    {
     "name": "stdout",
     "output_type": "stream",
     "text": [
      "2315250\n"
     ]
    },
    {
     "name": "stderr",
     "output_type": "stream",
     "text": [
      "/home/student/.local/lib/python3.6/site-packages/librosa/core/audio.py:162: UserWarning: PySoundFile failed. Trying audioread instead.\n",
      "  warnings.warn(\"PySoundFile failed. Trying audioread instead.\")\n"
     ]
    },
    {
     "name": "stdout",
     "output_type": "stream",
     "text": [
      "1278548\n"
     ]
    },
    {
     "name": "stderr",
     "output_type": "stream",
     "text": [
      "/home/student/.local/lib/python3.6/site-packages/librosa/core/audio.py:162: UserWarning: PySoundFile failed. Trying audioread instead.\n",
      "  warnings.warn(\"PySoundFile failed. Trying audioread instead.\")\n"
     ]
    },
    {
     "name": "stdout",
     "output_type": "stream",
     "text": [
      "2182950\n"
     ]
    },
    {
     "name": "stderr",
     "output_type": "stream",
     "text": [
      "/home/student/.local/lib/python3.6/site-packages/librosa/core/audio.py:162: UserWarning: PySoundFile failed. Trying audioread instead.\n",
      "  warnings.warn(\"PySoundFile failed. Trying audioread instead.\")\n"
     ]
    },
    {
     "name": "stdout",
     "output_type": "stream",
     "text": [
      "2050650\n"
     ]
    },
    {
     "name": "stderr",
     "output_type": "stream",
     "text": [
      "/home/student/.local/lib/python3.6/site-packages/librosa/core/audio.py:162: UserWarning: PySoundFile failed. Trying audioread instead.\n",
      "  warnings.warn(\"PySoundFile failed. Trying audioread instead.\")\n"
     ]
    },
    {
     "name": "stdout",
     "output_type": "stream",
     "text": [
      "4278053\n"
     ]
    },
    {
     "name": "stderr",
     "output_type": "stream",
     "text": [
      "/home/student/.local/lib/python3.6/site-packages/librosa/core/audio.py:162: UserWarning: PySoundFile failed. Trying audioread instead.\n",
      "  warnings.warn(\"PySoundFile failed. Trying audioread instead.\")\n"
     ]
    },
    {
     "name": "stdout",
     "output_type": "stream",
     "text": [
      "1389150\n"
     ]
    },
    {
     "name": "stderr",
     "output_type": "stream",
     "text": [
      "/home/student/.local/lib/python3.6/site-packages/librosa/core/audio.py:162: UserWarning: PySoundFile failed. Trying audioread instead.\n",
      "  warnings.warn(\"PySoundFile failed. Trying audioread instead.\")\n"
     ]
    },
    {
     "name": "stdout",
     "output_type": "stream",
     "text": [
      "705953\n"
     ]
    },
    {
     "name": "stderr",
     "output_type": "stream",
     "text": [
      "/home/student/.local/lib/python3.6/site-packages/librosa/core/spectrum.py:224: UserWarning: n_fft=2048 is too small for input signal of length=353\n",
      "  n_fft, y.shape[-1]\n",
      "/home/student/.local/lib/python3.6/site-packages/librosa/core/audio.py:162: UserWarning: PySoundFile failed. Trying audioread instead.\n",
      "  warnings.warn(\"PySoundFile failed. Trying audioread instead.\")\n"
     ]
    },
    {
     "name": "stdout",
     "output_type": "stream",
     "text": [
      "6416550\n"
     ]
    },
    {
     "name": "stderr",
     "output_type": "stream",
     "text": [
      "/home/student/.local/lib/python3.6/site-packages/librosa/core/audio.py:162: UserWarning: PySoundFile failed. Trying audioread instead.\n",
      "  warnings.warn(\"PySoundFile failed. Trying audioread instead.\")\n"
     ]
    },
    {
     "name": "stdout",
     "output_type": "stream",
     "text": [
      "2381400\n"
     ]
    },
    {
     "name": "stderr",
     "output_type": "stream",
     "text": [
      "/home/student/.local/lib/python3.6/site-packages/librosa/core/audio.py:162: UserWarning: PySoundFile failed. Trying audioread instead.\n",
      "  warnings.warn(\"PySoundFile failed. Trying audioread instead.\")\n"
     ]
    },
    {
     "name": "stdout",
     "output_type": "stream",
     "text": [
      "1808277\n"
     ]
    },
    {
     "name": "stderr",
     "output_type": "stream",
     "text": [
      "/home/student/.local/lib/python3.6/site-packages/librosa/core/audio.py:162: UserWarning: PySoundFile failed. Trying audioread instead.\n",
      "  warnings.warn(\"PySoundFile failed. Trying audioread instead.\")\n"
     ]
    },
    {
     "name": "stdout",
     "output_type": "stream",
     "text": [
      "8103111\n"
     ]
    },
    {
     "name": "stderr",
     "output_type": "stream",
     "text": [
      "/home/student/.local/lib/python3.6/site-packages/librosa/core/audio.py:162: UserWarning: PySoundFile failed. Trying audioread instead.\n",
      "  warnings.warn(\"PySoundFile failed. Trying audioread instead.\")\n"
     ]
    },
    {
     "name": "stdout",
     "output_type": "stream",
     "text": [
      "4233600\n"
     ]
    },
    {
     "name": "stderr",
     "output_type": "stream",
     "text": [
      "/home/student/.local/lib/python3.6/site-packages/librosa/core/audio.py:162: UserWarning: PySoundFile failed. Trying audioread instead.\n",
      "  warnings.warn(\"PySoundFile failed. Trying audioread instead.\")\n"
     ]
    },
    {
     "name": "stdout",
     "output_type": "stream",
     "text": [
      "1256850\n"
     ]
    },
    {
     "name": "stderr",
     "output_type": "stream",
     "text": [
      "/home/student/.local/lib/python3.6/site-packages/librosa/core/audio.py:162: UserWarning: PySoundFile failed. Trying audioread instead.\n",
      "  warnings.warn(\"PySoundFile failed. Trying audioread instead.\")\n"
     ]
    },
    {
     "name": "stdout",
     "output_type": "stream",
     "text": [
      "3881153\n"
     ]
    },
    {
     "name": "stderr",
     "output_type": "stream",
     "text": [
      "/home/student/.local/lib/python3.6/site-packages/librosa/core/spectrum.py:224: UserWarning: n_fft=2048 is too small for input signal of length=353\n",
      "  n_fft, y.shape[-1]\n",
      "/home/student/.local/lib/python3.6/site-packages/librosa/core/audio.py:162: UserWarning: PySoundFile failed. Trying audioread instead.\n",
      "  warnings.warn(\"PySoundFile failed. Trying audioread instead.\")\n"
     ]
    },
    {
     "name": "stdout",
     "output_type": "stream",
     "text": [
      "4012924\n"
     ]
    },
    {
     "name": "stderr",
     "output_type": "stream",
     "text": [
      "/home/student/.local/lib/python3.6/site-packages/librosa/core/audio.py:162: UserWarning: PySoundFile failed. Trying audioread instead.\n",
      "  warnings.warn(\"PySoundFile failed. Trying audioread instead.\")\n"
     ]
    },
    {
     "name": "stdout",
     "output_type": "stream",
     "text": [
      "1433603\n"
     ]
    },
    {
     "name": "stderr",
     "output_type": "stream",
     "text": [
      "/home/student/.local/lib/python3.6/site-packages/librosa/core/audio.py:162: UserWarning: PySoundFile failed. Trying audioread instead.\n",
      "  warnings.warn(\"PySoundFile failed. Trying audioread instead.\")\n"
     ]
    },
    {
     "name": "stdout",
     "output_type": "stream",
     "text": [
      "8400521\n"
     ]
    },
    {
     "name": "stderr",
     "output_type": "stream",
     "text": [
      "/home/student/.local/lib/python3.6/site-packages/librosa/core/audio.py:162: UserWarning: PySoundFile failed. Trying audioread instead.\n",
      "  warnings.warn(\"PySoundFile failed. Trying audioread instead.\")\n"
     ]
    },
    {
     "name": "stdout",
     "output_type": "stream",
     "text": [
      "3770550\n"
     ]
    },
    {
     "name": "stderr",
     "output_type": "stream",
     "text": [
      "/home/student/.local/lib/python3.6/site-packages/librosa/core/audio.py:162: UserWarning: PySoundFile failed. Trying audioread instead.\n",
      "  warnings.warn(\"PySoundFile failed. Trying audioread instead.\")\n"
     ]
    },
    {
     "name": "stdout",
     "output_type": "stream",
     "text": [
      "2116800\n"
     ]
    },
    {
     "name": "stderr",
     "output_type": "stream",
     "text": [
      "/home/student/.local/lib/python3.6/site-packages/librosa/core/audio.py:162: UserWarning: PySoundFile failed. Trying audioread instead.\n",
      "  warnings.warn(\"PySoundFile failed. Trying audioread instead.\")\n"
     ]
    },
    {
     "name": "stdout",
     "output_type": "stream",
     "text": [
      "3241350\n"
     ]
    },
    {
     "name": "stderr",
     "output_type": "stream",
     "text": [
      "/home/student/.local/lib/python3.6/site-packages/librosa/core/audio.py:162: UserWarning: PySoundFile failed. Trying audioread instead.\n",
      "  warnings.warn(\"PySoundFile failed. Trying audioread instead.\")\n"
     ]
    },
    {
     "name": "stdout",
     "output_type": "stream",
     "text": [
      "859950\n"
     ]
    },
    {
     "name": "stderr",
     "output_type": "stream",
     "text": [
      "/home/student/.local/lib/python3.6/site-packages/librosa/core/audio.py:162: UserWarning: PySoundFile failed. Trying audioread instead.\n",
      "  warnings.warn(\"PySoundFile failed. Trying audioread instead.\")\n"
     ]
    },
    {
     "name": "stdout",
     "output_type": "stream",
     "text": [
      "2733848\n"
     ]
    },
    {
     "name": "stderr",
     "output_type": "stream",
     "text": [
      "/home/student/.local/lib/python3.6/site-packages/librosa/core/audio.py:162: UserWarning: PySoundFile failed. Trying audioread instead.\n",
      "  warnings.warn(\"PySoundFile failed. Trying audioread instead.\")\n"
     ]
    },
    {
     "name": "stdout",
     "output_type": "stream",
     "text": [
      "1565903\n"
     ]
    },
    {
     "name": "stderr",
     "output_type": "stream",
     "text": [
      "/home/student/.local/lib/python3.6/site-packages/librosa/core/audio.py:162: UserWarning: PySoundFile failed. Trying audioread instead.\n",
      "  warnings.warn(\"PySoundFile failed. Trying audioread instead.\")\n"
     ]
    },
    {
     "name": "stdout",
     "output_type": "stream",
     "text": [
      "1786050\n"
     ]
    },
    {
     "name": "stderr",
     "output_type": "stream",
     "text": [
      "/home/student/.local/lib/python3.6/site-packages/librosa/core/audio.py:162: UserWarning: PySoundFile failed. Trying audioread instead.\n",
      "  warnings.warn(\"PySoundFile failed. Trying audioread instead.\")\n"
     ]
    },
    {
     "name": "stdout",
     "output_type": "stream",
     "text": [
      "2271327\n"
     ]
    },
    {
     "name": "stderr",
     "output_type": "stream",
     "text": [
      "/home/student/.local/lib/python3.6/site-packages/librosa/core/audio.py:162: UserWarning: PySoundFile failed. Trying audioread instead.\n",
      "  warnings.warn(\"PySoundFile failed. Trying audioread instead.\")\n",
      "/home/student/.local/lib/python3.6/site-packages/librosa/core/audio.py:162: UserWarning: PySoundFile failed. Trying audioread instead.\n",
      "  warnings.warn(\"PySoundFile failed. Trying audioread instead.\")\n",
      "/home/student/.local/lib/python3.6/site-packages/librosa/core/audio.py:162: UserWarning: PySoundFile failed. Trying audioread instead.\n",
      "  warnings.warn(\"PySoundFile failed. Trying audioread instead.\")\n",
      "/home/student/.local/lib/python3.6/site-packages/librosa/core/audio.py:162: UserWarning: PySoundFile failed. Trying audioread instead.\n",
      "  warnings.warn(\"PySoundFile failed. Trying audioread instead.\")\n",
      "/home/student/.local/lib/python3.6/site-packages/librosa/core/audio.py:162: UserWarning: PySoundFile failed. Trying audioread instead.\n",
      "  warnings.warn(\"PySoundFile failed. Trying audioread instead.\")\n",
      "/home/student/.local/lib/python3.6/site-packages/librosa/core/audio.py:162: UserWarning: PySoundFile failed. Trying audioread instead.\n",
      "  warnings.warn(\"PySoundFile failed. Trying audioread instead.\")\n",
      "/home/student/.local/lib/python3.6/site-packages/librosa/core/audio.py:162: UserWarning: PySoundFile failed. Trying audioread instead.\n",
      "  warnings.warn(\"PySoundFile failed. Trying audioread instead.\")\n",
      "/home/student/.local/lib/python3.6/site-packages/librosa/core/audio.py:162: UserWarning: PySoundFile failed. Trying audioread instead.\n",
      "  warnings.warn(\"PySoundFile failed. Trying audioread instead.\")\n",
      "/home/student/.local/lib/python3.6/site-packages/librosa/core/audio.py:162: UserWarning: PySoundFile failed. Trying audioread instead.\n",
      "  warnings.warn(\"PySoundFile failed. Trying audioread instead.\")\n",
      "/home/student/.local/lib/python3.6/site-packages/librosa/core/audio.py:162: UserWarning: PySoundFile failed. Trying audioread instead.\n",
      "  warnings.warn(\"PySoundFile failed. Trying audioread instead.\")\n",
      "/home/student/.local/lib/python3.6/site-packages/librosa/core/audio.py:162: UserWarning: PySoundFile failed. Trying audioread instead.\n",
      "  warnings.warn(\"PySoundFile failed. Trying audioread instead.\")\n",
      "/home/student/.local/lib/python3.6/site-packages/librosa/core/audio.py:162: UserWarning: PySoundFile failed. Trying audioread instead.\n",
      "  warnings.warn(\"PySoundFile failed. Trying audioread instead.\")\n",
      "/home/student/.local/lib/python3.6/site-packages/librosa/core/audio.py:162: UserWarning: PySoundFile failed. Trying audioread instead.\n",
      "  warnings.warn(\"PySoundFile failed. Trying audioread instead.\")\n",
      "/home/student/.local/lib/python3.6/site-packages/librosa/core/audio.py:162: UserWarning: PySoundFile failed. Trying audioread instead.\n",
      "  warnings.warn(\"PySoundFile failed. Trying audioread instead.\")\n",
      "/home/student/.local/lib/python3.6/site-packages/librosa/core/audio.py:162: UserWarning: PySoundFile failed. Trying audioread instead.\n",
      "  warnings.warn(\"PySoundFile failed. Trying audioread instead.\")\n",
      "/home/student/.local/lib/python3.6/site-packages/librosa/core/audio.py:162: UserWarning: PySoundFile failed. Trying audioread instead.\n",
      "  warnings.warn(\"PySoundFile failed. Trying audioread instead.\")\n",
      "/home/student/.local/lib/python3.6/site-packages/librosa/core/audio.py:162: UserWarning: PySoundFile failed. Trying audioread instead.\n",
      "  warnings.warn(\"PySoundFile failed. Trying audioread instead.\")\n",
      "/home/student/.local/lib/python3.6/site-packages/librosa/core/audio.py:162: UserWarning: PySoundFile failed. Trying audioread instead.\n",
      "  warnings.warn(\"PySoundFile failed. Trying audioread instead.\")\n",
      "/home/student/.local/lib/python3.6/site-packages/librosa/core/audio.py:162: UserWarning: PySoundFile failed. Trying audioread instead.\n",
      "  warnings.warn(\"PySoundFile failed. Trying audioread instead.\")\n",
      "/home/student/.local/lib/python3.6/site-packages/librosa/core/audio.py:162: UserWarning: PySoundFile failed. Trying audioread instead.\n",
      "  warnings.warn(\"PySoundFile failed. Trying audioread instead.\")\n",
      "/home/student/.local/lib/python3.6/site-packages/librosa/core/audio.py:162: UserWarning: PySoundFile failed. Trying audioread instead.\n",
      "  warnings.warn(\"PySoundFile failed. Trying audioread instead.\")\n",
      "/home/student/.local/lib/python3.6/site-packages/librosa/core/audio.py:162: UserWarning: PySoundFile failed. Trying audioread instead.\n",
      "  warnings.warn(\"PySoundFile failed. Trying audioread instead.\")\n",
      "/home/student/.local/lib/python3.6/site-packages/librosa/core/audio.py:162: UserWarning: PySoundFile failed. Trying audioread instead.\n",
      "  warnings.warn(\"PySoundFile failed. Trying audioread instead.\")\n",
      "/home/student/.local/lib/python3.6/site-packages/librosa/core/audio.py:162: UserWarning: PySoundFile failed. Trying audioread instead.\n",
      "  warnings.warn(\"PySoundFile failed. Trying audioread instead.\")\n",
      "/home/student/.local/lib/python3.6/site-packages/librosa/core/audio.py:162: UserWarning: PySoundFile failed. Trying audioread instead.\n",
      "  warnings.warn(\"PySoundFile failed. Trying audioread instead.\")\n",
      "/home/student/.local/lib/python3.6/site-packages/librosa/core/audio.py:162: UserWarning: PySoundFile failed. Trying audioread instead.\n",
      "  warnings.warn(\"PySoundFile failed. Trying audioread instead.\")\n",
      "/home/student/.local/lib/python3.6/site-packages/librosa/core/audio.py:162: UserWarning: PySoundFile failed. Trying audioread instead.\n",
      "  warnings.warn(\"PySoundFile failed. Trying audioread instead.\")\n",
      "/home/student/.local/lib/python3.6/site-packages/librosa/core/audio.py:162: UserWarning: PySoundFile failed. Trying audioread instead.\n",
      "  warnings.warn(\"PySoundFile failed. Trying audioread instead.\")\n",
      "/home/student/.local/lib/python3.6/site-packages/librosa/core/audio.py:162: UserWarning: PySoundFile failed. Trying audioread instead.\n",
      "  warnings.warn(\"PySoundFile failed. Trying audioread instead.\")\n",
      "/home/student/.local/lib/python3.6/site-packages/librosa/core/audio.py:162: UserWarning: PySoundFile failed. Trying audioread instead.\n",
      "  warnings.warn(\"PySoundFile failed. Trying audioread instead.\")\n",
      "/home/student/.local/lib/python3.6/site-packages/librosa/core/spectrum.py:224: UserWarning: n_fft=2048 is too small for input signal of length=177\n",
      "  n_fft, y.shape[-1]\n",
      "/home/student/.local/lib/python3.6/site-packages/librosa/core/audio.py:162: UserWarning: PySoundFile failed. Trying audioread instead.\n",
      "  warnings.warn(\"PySoundFile failed. Trying audioread instead.\")\n",
      "/home/student/.local/lib/python3.6/site-packages/librosa/core/audio.py:162: UserWarning: PySoundFile failed. Trying audioread instead.\n",
      "  warnings.warn(\"PySoundFile failed. Trying audioread instead.\")\n",
      "/home/student/.local/lib/python3.6/site-packages/librosa/core/audio.py:162: UserWarning: PySoundFile failed. Trying audioread instead.\n",
      "  warnings.warn(\"PySoundFile failed. Trying audioread instead.\")\n",
      "/home/student/.local/lib/python3.6/site-packages/librosa/core/audio.py:162: UserWarning: PySoundFile failed. Trying audioread instead.\n",
      "  warnings.warn(\"PySoundFile failed. Trying audioread instead.\")\n",
      "/home/student/.local/lib/python3.6/site-packages/librosa/core/audio.py:162: UserWarning: PySoundFile failed. Trying audioread instead.\n",
      "  warnings.warn(\"PySoundFile failed. Trying audioread instead.\")\n"
     ]
    }
   ],
   "source": [
    "import os\n",
    "import numpy, scipy, matplotlib.pyplot as plt, IPython.display as ipd\n",
    "import librosa, librosa.display\n",
    "import numpy as np\n",
    "import math\n",
    "os.chdir('/home/student/Downloads/new_violin_viola/baroque/viola/solo_train')\n",
    "x_train=[]\n",
    "y_train=[]\n",
    "mfcc_list_mean = []\n",
    "mfcc_list_std = []\n",
    "count1=0\n",
    "for f_name in os.listdir('/home/student/Downloads/new_violin_viola/baroque/viola/solo_train'):\n",
    "    if f_name.endswith('.wav') or f_name.endswith('.mp3'):\n",
    "        x, sr = librosa.load(f_name)\n",
    "        print(len(x))\n",
    "        start=0\n",
    "        end = 4*22050\n",
    "\n",
    "        x = x/x.max()\n",
    "        length = len(x)\n",
    "        count = math.ceil(len(x)/(22050*4))\n",
    "        count1+=count\n",
    "        for i in range(count):\n",
    "            if end >= length:\n",
    "                end = length\n",
    "            temp = x[start:end]\n",
    "            \n",
    "            mfcc = librosa.feature.mfcc(temp, n_mfcc=13)\n",
    "            variable = []\n",
    "            temp1 =list(np.mean(mfcc,1))\n",
    "            temp2=list(np.std(mfcc,1))\n",
    "            variable = temp1+temp2\n",
    "            x_train.append(variable)\n",
    "            y_train.append(\"viola\")\n",
    "            start = end\n",
    "            end = end+4*22050\n",
    "os.chdir('/home/student/Downloads/new_violin_viola/baroque/violin/solo_train')\n",
    "for f_name in os.listdir('/home/student/Downloads/new_violin_viola/baroque/violin/solo_train'):\n",
    "    if f_name.endswith('.wav') or f_name.endswith('.mp3'):\n",
    "        x, sr = librosa.load(f_name)\n",
    "        start=0\n",
    "        end = 4*22050\n",
    "\n",
    "        x = x/x.max()\n",
    "        length = len(x)\n",
    "        count = math.ceil(len(x)/(22050*4))\n",
    "        count1+=count\n",
    "        for i in range(count):\n",
    "            if end >= length:\n",
    "                end = length\n",
    "            temp = x[start:end]\n",
    "            \n",
    "            mfcc = librosa.feature.mfcc(temp, n_mfcc=13)\n",
    "            variable = []\n",
    "            temp1 =list(np.mean(mfcc,1))\n",
    "            temp2=list(np.std(mfcc,1))\n",
    "            variable = temp1+temp2\n",
    "            x_train.append(variable)\n",
    "            y_train.append(\"violin\")\n",
    "            start = end\n",
    "            end = end+4*22050\n",
    "        \n",
    "        "
   ]
  },
  {
   "cell_type": "code",
   "execution_count": 2,
   "metadata": {},
   "outputs": [
    {
     "name": "stdout",
     "output_type": "stream",
     "text": [
      "3468 3468\n"
     ]
    },
    {
     "data": {
      "text/plain": [
       "KNeighborsClassifier(algorithm='auto', leaf_size=30, metric='minkowski',\n",
       "                     metric_params=None, n_jobs=None, n_neighbors=3, p=2,\n",
       "                     weights='uniform')"
      ]
     },
     "execution_count": 2,
     "metadata": {},
     "output_type": "execute_result"
    }
   ],
   "source": [
    "\n",
    "from sklearn.metrics import confusion_matrix\n",
    "from sklearn.metrics import accuracy_score\n",
    "from sklearn.svm import SVC\n",
    "from sklearn.preprocessing import StandardScaler\n",
    "#scaler = StandardScaler()\n",
    "#scaler.fit(x_train)\n",
    "#x_train = scaler.transform(x_train)\n",
    "\n",
    "from sklearn.metrics import confusion_matrix\n",
    "from sklearn.metrics import accuracy_score\n",
    "from sklearn.neighbors import KNeighborsClassifier\n",
    "\n",
    "classifier = KNeighborsClassifier(n_neighbors=3)\n",
    "#classifier = SVC(kernel='rbf', random_state=0, gamma=.1, C=1,probability = True)\n",
    "print(len(x_train), len(y_train))\n",
    "classifier.fit(x_train, y_train)"
   ]
  },
  {
   "cell_type": "code",
   "execution_count": 3,
   "metadata": {},
   "outputs": [
    {
     "data": {
      "text/plain": [
       "5402074"
      ]
     },
     "execution_count": 3,
     "metadata": {},
     "output_type": "execute_result"
    }
   ],
   "source": [
    "length"
   ]
  },
  {
   "cell_type": "code",
   "execution_count": 4,
   "metadata": {},
   "outputs": [
    {
     "name": "stdout",
     "output_type": "stream",
     "text": [
      "Bach suite n 1 para viola sola Irina Yonkova.mp3\n"
     ]
    },
    {
     "name": "stderr",
     "output_type": "stream",
     "text": [
      "/home/student/.local/lib/python3.6/site-packages/librosa/core/audio.py:162: UserWarning: PySoundFile failed. Trying audioread instead.\n",
      "  warnings.warn(\"PySoundFile failed. Trying audioread instead.\")\n"
     ]
    },
    {
     "name": "stdout",
     "output_type": "stream",
     "text": [
      "Confidence interval for viola:0.7764227642276422 Confidence interval for violin:0.22357723577235772\n",
      "True label: Viola\n",
      "Predicted: Viola\n",
      "Partita in F VI Sarabande.mp3\n"
     ]
    },
    {
     "name": "stderr",
     "output_type": "stream",
     "text": [
      "/home/student/.local/lib/python3.6/site-packages/librosa/core/audio.py:162: UserWarning: PySoundFile failed. Trying audioread instead.\n",
      "  warnings.warn(\"PySoundFile failed. Trying audioread instead.\")\n",
      "/home/student/.local/lib/python3.6/site-packages/librosa/core/spectrum.py:224: UserWarning: n_fft=2048 is too small for input signal of length=176\n",
      "  n_fft, y.shape[-1]\n",
      "/home/student/.local/lib/python3.6/site-packages/librosa/core/audio.py:162: UserWarning: PySoundFile failed. Trying audioread instead.\n",
      "  warnings.warn(\"PySoundFile failed. Trying audioread instead.\")\n"
     ]
    },
    {
     "name": "stdout",
     "output_type": "stream",
     "text": [
      "Confidence interval for viola:1.0 Confidence interval for violin:0.0\n",
      "True label: Viola\n",
      "Predicted: Viola\n",
      "Fantasia no 7 for solo viola-Dolce.mp3\n",
      "Confidence interval for viola:0.45 Confidence interval for violin:0.55\n",
      "True label: Viola\n",
      "Predicted: Violin\n",
      "Suite in D minor I Aria.mp3\n"
     ]
    },
    {
     "name": "stderr",
     "output_type": "stream",
     "text": [
      "/home/student/.local/lib/python3.6/site-packages/librosa/core/audio.py:162: UserWarning: PySoundFile failed. Trying audioread instead.\n",
      "  warnings.warn(\"PySoundFile failed. Trying audioread instead.\")\n"
     ]
    },
    {
     "name": "stdout",
     "output_type": "stream",
     "text": [
      "Confidence interval for viola:1.0 Confidence interval for violin:0.0\n",
      "True label: Viola\n",
      "Predicted: Viola\n",
      "Fantasia no 7 for solo viola-Presto.mp3\n"
     ]
    },
    {
     "name": "stderr",
     "output_type": "stream",
     "text": [
      "/home/student/.local/lib/python3.6/site-packages/librosa/core/audio.py:162: UserWarning: PySoundFile failed. Trying audioread instead.\n",
      "  warnings.warn(\"PySoundFile failed. Trying audioread instead.\")\n",
      "/home/student/.local/lib/python3.6/site-packages/librosa/core/spectrum.py:224: UserWarning: n_fft=2048 is too small for input signal of length=176\n",
      "  n_fft, y.shape[-1]\n",
      "/home/student/.local/lib/python3.6/site-packages/librosa/core/audio.py:162: UserWarning: PySoundFile failed. Trying audioread instead.\n",
      "  warnings.warn(\"PySoundFile failed. Trying audioread instead.\")\n"
     ]
    },
    {
     "name": "stdout",
     "output_type": "stream",
     "text": [
      "Confidence interval for viola:0.7142857142857143 Confidence interval for violin:0.2857142857142857\n",
      "True label: Viola\n",
      "Predicted: Viola\n",
      "Bach Cello Suite No 2 in D minor - I Prelude - Viola.mp3\n",
      "Confidence interval for viola:0.8688524590163934 Confidence interval for violin:0.13114754098360656\n",
      "True label: Viola\n",
      "Predicted: Viola\n",
      "Partita in F II Gigue.mp3\n"
     ]
    },
    {
     "name": "stderr",
     "output_type": "stream",
     "text": [
      "/home/student/.local/lib/python3.6/site-packages/librosa/core/audio.py:162: UserWarning: PySoundFile failed. Trying audioread instead.\n",
      "  warnings.warn(\"PySoundFile failed. Trying audioread instead.\")\n"
     ]
    },
    {
     "name": "stdout",
     "output_type": "stream",
     "text": [
      "Confidence interval for viola:1.0 Confidence interval for violin:0.0\n",
      "True label: Viola\n",
      "Predicted: Viola\n",
      "Capriccio and Minuet in A ICapriccio.mp3\n"
     ]
    },
    {
     "name": "stderr",
     "output_type": "stream",
     "text": [
      "/home/student/.local/lib/python3.6/site-packages/librosa/core/audio.py:162: UserWarning: PySoundFile failed. Trying audioread instead.\n",
      "  warnings.warn(\"PySoundFile failed. Trying audioread instead.\")\n"
     ]
    },
    {
     "name": "stdout",
     "output_type": "stream",
     "text": [
      "Confidence interval for viola:1.0 Confidence interval for violin:0.0\n",
      "True label: Viola\n",
      "Predicted: Viola\n",
      "Suite No.6 in D major, BWV 1012 I. Prélude.mp3\n"
     ]
    },
    {
     "name": "stderr",
     "output_type": "stream",
     "text": [
      "/home/student/.local/lib/python3.6/site-packages/librosa/core/audio.py:162: UserWarning: PySoundFile failed. Trying audioread instead.\n",
      "  warnings.warn(\"PySoundFile failed. Trying audioread instead.\")\n"
     ]
    },
    {
     "name": "stdout",
     "output_type": "stream",
     "text": [
      "Confidence interval for viola:0.7361111111111112 Confidence interval for violin:0.2638888888888889\n",
      "True label: Viola\n",
      "Predicted: Viola\n",
      "Max Baillie viola Bach Chromatic Fantasy.mp3\n"
     ]
    },
    {
     "name": "stderr",
     "output_type": "stream",
     "text": [
      "/home/student/.local/lib/python3.6/site-packages/librosa/core/audio.py:162: UserWarning: PySoundFile failed. Trying audioread instead.\n",
      "  warnings.warn(\"PySoundFile failed. Trying audioread instead.\")\n"
     ]
    },
    {
     "name": "stdout",
     "output_type": "stream",
     "text": [
      "Confidence interval for viola:0.3716216216216216 Confidence interval for violin:0.6283783783783784\n",
      "True label: Viola\n",
      "Predicted: Violin\n",
      "Partita in A I Introduction.mp3\n"
     ]
    },
    {
     "name": "stderr",
     "output_type": "stream",
     "text": [
      "/home/student/.local/lib/python3.6/site-packages/librosa/core/audio.py:162: UserWarning: PySoundFile failed. Trying audioread instead.\n",
      "  warnings.warn(\"PySoundFile failed. Trying audioread instead.\")\n"
     ]
    },
    {
     "name": "stdout",
     "output_type": "stream",
     "text": [
      "Confidence interval for viola:1.0 Confidence interval for violin:0.0\n",
      "True label: Viola\n",
      "Predicted: Viola\n",
      "Partita in D I Aria.mp3\n"
     ]
    },
    {
     "name": "stderr",
     "output_type": "stream",
     "text": [
      "/home/student/.local/lib/python3.6/site-packages/librosa/core/audio.py:162: UserWarning: PySoundFile failed. Trying audioread instead.\n",
      "  warnings.warn(\"PySoundFile failed. Trying audioread instead.\")\n"
     ]
    },
    {
     "name": "stdout",
     "output_type": "stream",
     "text": [
      "Confidence interval for viola:0.9642857142857143 Confidence interval for violin:0.03571428571428571\n",
      "True label: Viola\n",
      "Predicted: Viola\n",
      "Bach Violin Solo Sonata No. 1, BWV 1001 Wenting Kang, Viola.mp3\n"
     ]
    },
    {
     "name": "stderr",
     "output_type": "stream",
     "text": [
      "/home/student/.local/lib/python3.6/site-packages/librosa/core/audio.py:162: UserWarning: PySoundFile failed. Trying audioread instead.\n",
      "  warnings.warn(\"PySoundFile failed. Trying audioread instead.\")\n"
     ]
    },
    {
     "name": "stdout",
     "output_type": "stream",
     "text": [
      "Confidence interval for viola:0.8518518518518519 Confidence interval for violin:0.14814814814814814\n",
      "True label: Viola\n",
      "Predicted: Viola\n",
      "Bach Violin solo Partita BWV1004 No2 Sarabande Viola.mp3\n"
     ]
    },
    {
     "name": "stderr",
     "output_type": "stream",
     "text": [
      "/home/student/.local/lib/python3.6/site-packages/librosa/core/audio.py:162: UserWarning: PySoundFile failed. Trying audioread instead.\n",
      "  warnings.warn(\"PySoundFile failed. Trying audioread instead.\")\n"
     ]
    },
    {
     "name": "stdout",
     "output_type": "stream",
     "text": [
      "Confidence interval for viola:0.6065573770491803 Confidence interval for violin:0.39344262295081966\n",
      "True label: Viola\n",
      "Predicted: Viola\n",
      "Partita in D VI Menuet I _ II.mp3\n"
     ]
    },
    {
     "name": "stderr",
     "output_type": "stream",
     "text": [
      "/home/student/.local/lib/python3.6/site-packages/librosa/core/audio.py:162: UserWarning: PySoundFile failed. Trying audioread instead.\n",
      "  warnings.warn(\"PySoundFile failed. Trying audioread instead.\")\n"
     ]
    },
    {
     "name": "stdout",
     "output_type": "stream",
     "text": [
      "Confidence interval for viola:1.0 Confidence interval for violin:0.0\n",
      "True label: Viola\n",
      "Predicted: Viola\n"
     ]
    }
   ],
   "source": [
    "tp_viola = 0\n",
    "fp_violin =0\n",
    "g_temp_tp_viola =0\n",
    "g_temp_fp_violin =0\n",
    "g_temp_tp_violin = 0\n",
    "g_temp_fp_viola=0\n",
    "os.chdir('/home/student/Downloads/new_violin_viola/baroque/viola/solo_test')\n",
    "for f_name in os.listdir('/home/student/Downloads/new_violin_viola/baroque/viola/solo_test'):\n",
    "    if f_name.endswith('.wav') or f_name.endswith('.mp3'):\n",
    "        print(f_name)\n",
    "        x, sr = librosa.load(f_name)\n",
    "        start=0\n",
    "        end = 4*22050+1\n",
    "\n",
    "        x = x/x.max()\n",
    "        length = len(x)\n",
    "        count = math.ceil(len(x)/(22050*4))\n",
    "        temp_tp_viola = 0\n",
    "        temp_fp_violin =0\n",
    "        for i in range(count):\n",
    "            \n",
    "            if end >= length:\n",
    "                end = length\n",
    "            temp = x[start:end]\n",
    "            mfcc = librosa.feature.mfcc(temp, n_mfcc=13)\n",
    "            variable = []\n",
    "            temp1 =list(np.mean(mfcc,1))\n",
    "            temp2=list(np.std(mfcc,1))\n",
    "            variable = temp1+temp2\n",
    "            y_pred = classifier.predict([variable])\n",
    "            if y_pred == \"viola\":\n",
    "                temp_tp_viola+=1\n",
    "                g_temp_tp_viola+=1\n",
    "            else:\n",
    "                temp_fp_violin+=1\n",
    "                g_temp_fp_violin+=1\n",
    "            start = end\n",
    "            end = end+4*22050\n",
    "        print(\"Confidence interval for viola:\" + str(temp_tp_viola/(temp_tp_viola+temp_fp_violin)) +\" Confidence interval for violin:\"+str(temp_fp_violin/(temp_tp_viola+temp_fp_violin)))\n",
    "        print(\"True label: Viola\")\n",
    "        if temp_tp_viola>temp_fp_violin:\n",
    "            tp_viola+=1\n",
    "            print(\"Predicted: Viola\")\n",
    "        else:\n",
    "            fp_violin+=1\n",
    "            print(\"Predicted: Violin\")\n",
    "            "
   ]
  },
  {
   "cell_type": "code",
   "execution_count": 5,
   "metadata": {},
   "outputs": [
    {
     "name": "stdout",
     "output_type": "stream",
     "text": [
      "Partita No 3 in E Major BWV 1006 II Loure.mp3\n"
     ]
    },
    {
     "name": "stderr",
     "output_type": "stream",
     "text": [
      "/home/student/.local/lib/python3.6/site-packages/librosa/core/audio.py:162: UserWarning: PySoundFile failed. Trying audioread instead.\n",
      "  warnings.warn(\"PySoundFile failed. Trying audioread instead.\")\n"
     ]
    },
    {
     "name": "stdout",
     "output_type": "stream",
     "text": [
      "Confidence interval for violin:1.0 Confidence interval for viola:0.0\n",
      "True label: Violin\n",
      "Predicted: Violin\n",
      "Partita No 1 in B Minor BWV 1002 V Sarabande.mp3\n"
     ]
    },
    {
     "name": "stderr",
     "output_type": "stream",
     "text": [
      "/home/student/.local/lib/python3.6/site-packages/librosa/core/audio.py:162: UserWarning: PySoundFile failed. Trying audioread instead.\n",
      "  warnings.warn(\"PySoundFile failed. Trying audioread instead.\")\n"
     ]
    },
    {
     "name": "stdout",
     "output_type": "stream",
     "text": [
      "Confidence interval for violin:1.0 Confidence interval for viola:0.0\n",
      "True label: Violin\n",
      "Predicted: Violin\n",
      "Sonata No 1 in G Minor BWV 1001 IV Presto.mp3\n"
     ]
    },
    {
     "name": "stderr",
     "output_type": "stream",
     "text": [
      "/home/student/.local/lib/python3.6/site-packages/librosa/core/audio.py:162: UserWarning: PySoundFile failed. Trying audioread instead.\n",
      "  warnings.warn(\"PySoundFile failed. Trying audioread instead.\")\n"
     ]
    },
    {
     "name": "stdout",
     "output_type": "stream",
     "text": [
      "Confidence interval for violin:1.0 Confidence interval for viola:0.0\n",
      "True label: Violin\n",
      "Predicted: Violin\n",
      "Partita No 2 in D Minor BWV 1004 II Corrente.mp3\n"
     ]
    },
    {
     "name": "stderr",
     "output_type": "stream",
     "text": [
      "/home/student/.local/lib/python3.6/site-packages/librosa/core/audio.py:162: UserWarning: PySoundFile failed. Trying audioread instead.\n",
      "  warnings.warn(\"PySoundFile failed. Trying audioread instead.\")\n"
     ]
    },
    {
     "name": "stdout",
     "output_type": "stream",
     "text": [
      "Confidence interval for violin:1.0 Confidence interval for viola:0.0\n",
      "True label: Violin\n",
      "Predicted: Violin\n",
      "Fantasia in E major.mp3\n"
     ]
    },
    {
     "name": "stderr",
     "output_type": "stream",
     "text": [
      "/home/student/.local/lib/python3.6/site-packages/librosa/core/audio.py:162: UserWarning: PySoundFile failed. Trying audioread instead.\n",
      "  warnings.warn(\"PySoundFile failed. Trying audioread instead.\")\n"
     ]
    },
    {
     "name": "stdout",
     "output_type": "stream",
     "text": [
      "Confidence interval for violin:1.0 Confidence interval for viola:0.0\n",
      "True label: Violin\n",
      "Predicted: Violin\n",
      "Partita No 1 in B Minor BWV 1002 VII Tempo di borea.mp3\n"
     ]
    },
    {
     "name": "stderr",
     "output_type": "stream",
     "text": [
      "/home/student/.local/lib/python3.6/site-packages/librosa/core/audio.py:162: UserWarning: PySoundFile failed. Trying audioread instead.\n",
      "  warnings.warn(\"PySoundFile failed. Trying audioread instead.\")\n"
     ]
    },
    {
     "name": "stdout",
     "output_type": "stream",
     "text": [
      "Confidence interval for violin:1.0 Confidence interval for viola:0.0\n",
      "True label: Violin\n",
      "Predicted: Violin\n",
      "Fantasia in A minor.mp3\n"
     ]
    },
    {
     "name": "stderr",
     "output_type": "stream",
     "text": [
      "/home/student/.local/lib/python3.6/site-packages/librosa/core/audio.py:162: UserWarning: PySoundFile failed. Trying audioread instead.\n",
      "  warnings.warn(\"PySoundFile failed. Trying audioread instead.\")\n"
     ]
    },
    {
     "name": "stdout",
     "output_type": "stream",
     "text": [
      "Confidence interval for violin:1.0 Confidence interval for viola:0.0\n",
      "True label: Violin\n",
      "Predicted: Violin\n",
      "Sonata No 3 in C Major BWV 1005 IV Allegro assai.mp3\n"
     ]
    },
    {
     "name": "stderr",
     "output_type": "stream",
     "text": [
      "/home/student/.local/lib/python3.6/site-packages/librosa/core/audio.py:162: UserWarning: PySoundFile failed. Trying audioread instead.\n",
      "  warnings.warn(\"PySoundFile failed. Trying audioread instead.\")\n"
     ]
    },
    {
     "name": "stdout",
     "output_type": "stream",
     "text": [
      "Confidence interval for violin:0.9814814814814815 Confidence interval for viola:0.018518518518518517\n",
      "True label: Violin\n",
      "Predicted: Violin\n",
      "Partita No. 1 in B Minor BWV 1002 I Allemanda.mp3\n"
     ]
    },
    {
     "name": "stderr",
     "output_type": "stream",
     "text": [
      "/home/student/.local/lib/python3.6/site-packages/librosa/core/audio.py:162: UserWarning: PySoundFile failed. Trying audioread instead.\n",
      "  warnings.warn(\"PySoundFile failed. Trying audioread instead.\")\n"
     ]
    },
    {
     "name": "stdout",
     "output_type": "stream",
     "text": [
      "Confidence interval for violin:1.0 Confidence interval for viola:0.0\n",
      "True label: Violin\n",
      "Predicted: Violin\n",
      "Fantasia in F minor.mp3\n"
     ]
    },
    {
     "name": "stderr",
     "output_type": "stream",
     "text": [
      "/home/student/.local/lib/python3.6/site-packages/librosa/core/audio.py:162: UserWarning: PySoundFile failed. Trying audioread instead.\n",
      "  warnings.warn(\"PySoundFile failed. Trying audioread instead.\")\n"
     ]
    },
    {
     "name": "stdout",
     "output_type": "stream",
     "text": [
      "Confidence interval for violin:0.9880952380952381 Confidence interval for viola:0.011904761904761904\n",
      "True label: Violin\n",
      "Predicted: Violin\n",
      "Partita No 1 in B Minor BWV 1002 VIII Double.mp3\n"
     ]
    },
    {
     "name": "stderr",
     "output_type": "stream",
     "text": [
      "/home/student/.local/lib/python3.6/site-packages/librosa/core/audio.py:162: UserWarning: PySoundFile failed. Trying audioread instead.\n",
      "  warnings.warn(\"PySoundFile failed. Trying audioread instead.\")\n"
     ]
    },
    {
     "name": "stdout",
     "output_type": "stream",
     "text": [
      "Confidence interval for violin:1.0 Confidence interval for viola:0.0\n",
      "True label: Violin\n",
      "Predicted: Violin\n",
      "Partita No 1 in B Minor BWV 1002 IV Double Presto.mp3\n"
     ]
    },
    {
     "name": "stderr",
     "output_type": "stream",
     "text": [
      "/home/student/.local/lib/python3.6/site-packages/librosa/core/audio.py:162: UserWarning: PySoundFile failed. Trying audioread instead.\n",
      "  warnings.warn(\"PySoundFile failed. Trying audioread instead.\")\n"
     ]
    },
    {
     "name": "stdout",
     "output_type": "stream",
     "text": [
      "Confidence interval for violin:1.0 Confidence interval for viola:0.0\n",
      "True label: Violin\n",
      "Predicted: Violin\n",
      "Sonata No. 1 in G Minor BWV 1001 II Fuga Allegro.mp3\n"
     ]
    },
    {
     "name": "stderr",
     "output_type": "stream",
     "text": [
      "/home/student/.local/lib/python3.6/site-packages/librosa/core/audio.py:162: UserWarning: PySoundFile failed. Trying audioread instead.\n",
      "  warnings.warn(\"PySoundFile failed. Trying audioread instead.\")\n"
     ]
    },
    {
     "name": "stdout",
     "output_type": "stream",
     "text": [
      "Confidence interval for violin:0.9878048780487805 Confidence interval for viola:0.012195121951219513\n",
      "True label: Violin\n",
      "Predicted: Violin\n",
      "Partita No 3 in E Major BWV 1006 V Bourée.mp3\n"
     ]
    },
    {
     "name": "stderr",
     "output_type": "stream",
     "text": [
      "/home/student/.local/lib/python3.6/site-packages/librosa/core/audio.py:162: UserWarning: PySoundFile failed. Trying audioread instead.\n",
      "  warnings.warn(\"PySoundFile failed. Trying audioread instead.\")\n"
     ]
    },
    {
     "name": "stdout",
     "output_type": "stream",
     "text": [
      "Confidence interval for violin:0.9411764705882353 Confidence interval for viola:0.058823529411764705\n",
      "True label: Violin\n",
      "Predicted: Violin\n",
      "Partita No 2 in D Minor BWV 1004 V Ciaccona.mp3\n"
     ]
    },
    {
     "name": "stderr",
     "output_type": "stream",
     "text": [
      "/home/student/.local/lib/python3.6/site-packages/librosa/core/audio.py:162: UserWarning: PySoundFile failed. Trying audioread instead.\n",
      "  warnings.warn(\"PySoundFile failed. Trying audioread instead.\")\n"
     ]
    },
    {
     "name": "stdout",
     "output_type": "stream",
     "text": [
      "Confidence interval for violin:0.9948979591836735 Confidence interval for viola:0.00510204081632653\n",
      "True label: Violin\n",
      "Predicted: Violin\n"
     ]
    }
   ],
   "source": [
    "tp_violin = 0\n",
    "fp_viola =0\n",
    "os.chdir('/home/student/Downloads/new_violin_viola/baroque/violin/solo_test')\n",
    "for f_name in os.listdir('/home/student/Downloads/new_violin_viola/baroque/violin/solo_test'):\n",
    "    if f_name.endswith('.wav') or f_name.endswith('.mp3'):\n",
    "        print(f_name)\n",
    "        x, sr = librosa.load(f_name)\n",
    "        start=0\n",
    "        end = 4*22050+1\n",
    "\n",
    "        x = x/x.max()\n",
    "        length = len(x)\n",
    "        count = math.ceil(len(x)/(22050*4))\n",
    "        temp_tp_violin = 0\n",
    "        temp_fp_viola =0\n",
    "        for i in range(count):\n",
    "            \n",
    "            if end >= length:\n",
    "                end = length\n",
    "            temp = x[start:end]\n",
    "            mfcc = librosa.feature.mfcc(temp, n_mfcc=13)\n",
    "            variable = []\n",
    "            temp1 =list(np.mean(mfcc,1))\n",
    "            temp2=list(np.std(mfcc,1))\n",
    "            variable = temp1+temp2\n",
    "            y_pred = classifier.predict([variable])\n",
    "            if y_pred == \"violin\":\n",
    "                temp_tp_violin+=1\n",
    "                g_temp_tp_violin+=1\n",
    "            else:\n",
    "                temp_fp_viola+=1\n",
    "                g_temp_fp_viola+=1\n",
    "            start = end\n",
    "            end = end+4*22050\n",
    "        print(\"Confidence interval for violin:\" + str(temp_tp_violin/(temp_tp_violin+temp_fp_viola)) +\" Confidence interval for viola:\"+str(temp_fp_viola/(temp_tp_violin+temp_fp_viola)))\n",
    "        print(\"True label: Violin\")\n",
    "        if temp_tp_violin>temp_fp_viola:\n",
    "            tp_violin+=1\n",
    "            print(\"Predicted: Violin\")\n",
    "        else:\n",
    "            fp_viola+=1\n",
    "            print(\"Predicted: Viola\")"
   ]
  },
  {
   "cell_type": "code",
   "execution_count": 6,
   "metadata": {},
   "outputs": [
    {
     "name": "stdout",
     "output_type": "stream",
     "text": [
      "0.9333333333333333\n"
     ]
    }
   ],
   "source": [
    "accuracy = (tp_violin+tp_viola)/(tp_violin+tp_viola+fp_viola+fp_violin)\n",
    "print(accuracy)"
   ]
  },
  {
   "cell_type": "code",
   "execution_count": 7,
   "metadata": {},
   "outputs": [
    {
     "name": "stdout",
     "output_type": "stream",
     "text": [
      "0.868663594470046\n"
     ]
    }
   ],
   "source": [
    "accuracy1 = (g_temp_tp_viola +g_temp_tp_violin)/(g_temp_tp_viola +g_temp_fp_violin +g_temp_tp_violin +g_temp_fp_viola)\n",
    "print(accuracy1)"
   ]
  },
  {
   "cell_type": "code",
   "execution_count": 8,
   "metadata": {},
   "outputs": [
    {
     "name": "stdout",
     "output_type": "stream",
     "text": [
      "Count of segments: 1736\n"
     ]
    }
   ],
   "source": [
    "print(\"Count of segments: \" + str(g_temp_tp_viola +g_temp_fp_violin +g_temp_tp_violin +g_temp_fp_viola))"
   ]
  },
  {
   "cell_type": "code",
   "execution_count": 10,
   "metadata": {},
   "outputs": [
    {
     "name": "stdout",
     "output_type": "stream",
     "text": [
      "Song level precision: 0.9411764705882353\n",
      "Song level recall: 0.9333333333333333\n",
      "macro_segment_precision:0.8965522246802186\n",
      "weighted_segment_precision:0.8925995054378318\n",
      "macro_segment_recall:0.8632200901974132\n",
      "weighted_segment_recall:0.868663594470046\n"
     ]
    }
   ],
   "source": [
    "song_precision_violin = tp_violin/(tp_violin+fp_violin)\n",
    "song_precision_viola = tp_viola/(tp_viola+fp_viola)\n",
    "song_precision = (song_precision_violin+song_precision_viola)/2\n",
    "print(\"Song level precision: \" +str(song_precision))\n",
    "\n",
    "song_recall_violin = tp_violin/(tp_violin+fp_viola)\n",
    "song_recall_viola = tp_viola/(tp_viola+fp_violin)\n",
    "song_recall = (song_recall_violin+song_recall_viola)/2\n",
    "print(\"Song level recall: \" +str(song_recall))\n",
    "\n",
    "total_segments = (g_temp_tp_viola +g_temp_fp_violin +g_temp_tp_violin +g_temp_fp_viola)\n",
    "segment_precision_violin = g_temp_tp_violin/(g_temp_tp_violin+g_temp_fp_violin)\n",
    "segment_precision_viola = g_temp_tp_viola/(g_temp_tp_viola+g_temp_fp_viola)\n",
    "macro_segment_precision = (segment_precision_violin+segment_precision_viola)/2\n",
    "print(\"macro_segment_precision:\" + str(macro_segment_precision))\n",
    "weighted_segment_precision = segment_precision_violin*((g_temp_tp_violin+g_temp_fp_viola)/total_segments)+segment_precision_viola*((g_temp_tp_viola+g_temp_fp_violin)/total_segments)\n",
    "print(\"weighted_segment_precision:\" + str(weighted_segment_precision))\n",
    "\n",
    "segment_recall_violin = g_temp_tp_violin/(g_temp_tp_violin+g_temp_fp_viola)\n",
    "segment_recall_viola = g_temp_tp_viola/(g_temp_tp_viola+g_temp_fp_violin)\n",
    "macro_segment_recall = (segment_recall_violin+segment_recall_viola)/2\n",
    "print(\"macro_segment_recall:\" + str(macro_segment_recall))\n",
    "weighted_segment_recall = segment_recall_violin*((g_temp_tp_violin+g_temp_fp_viola)/total_segments)+segment_recall_viola*((g_temp_tp_viola+g_temp_fp_violin)/total_segments)\n",
    "print(\"weighted_segment_recall:\" + str(weighted_segment_recall))"
   ]
  },
  {
   "cell_type": "markdown",
   "metadata": {},
   "source": [
    "song_f1 = (2*song_precision*song_recall)/(song_precision+song_recall)\n",
    "print(\"Song level F1: \" +str(song_f1))\n",
    "\n",
    "macro_segment_f1 = (2*macro_segment_precision*macro_segment_recall)/(macro_segment_precision+macro_segment_recall)\n",
    "print(\"Segment level macro F1: \" +str(macro_segment_f1))\n",
    "\n",
    "weighted_segment_f1 = (2*weighted_segment_precision*weighted_segment_recall)/(weighted_segment_precision+weighted_segment_recall)\n",
    "print(\"Segment level weighted F1: \" +str(weighted_segment_f1))"
   ]
  },
  {
   "cell_type": "code",
   "execution_count": 11,
   "metadata": {},
   "outputs": [
    {
     "name": "stdout",
     "output_type": "stream",
     "text": [
      "Song level F1: 0.9372384937238494\n",
      "Segment level macro F1: 0.8795704827405078\n",
      "Segment level weighted F1: 0.8804689030916139\n"
     ]
    }
   ],
   "source": [
    "song_f1 = (2*song_precision*song_recall)/(song_precision+song_recall)\n",
    "print(\"Song level F1: \" +str(song_f1))\n",
    "\n",
    "macro_segment_f1 = (2*macro_segment_precision*macro_segment_recall)/(macro_segment_precision+macro_segment_recall)\n",
    "print(\"Segment level macro F1: \" +str(macro_segment_f1))\n",
    "\n",
    "weighted_segment_f1 = (2*weighted_segment_precision*weighted_segment_recall)/(weighted_segment_precision+weighted_segment_recall)\n",
    "print(\"Segment level weighted F1: \" +str(weighted_segment_f1))"
   ]
  },
  {
   "cell_type": "code",
   "execution_count": null,
   "metadata": {},
   "outputs": [],
   "source": []
  }
 ],
 "metadata": {
  "kernelspec": {
   "display_name": "Python 3",
   "language": "python",
   "name": "python3"
  },
  "language_info": {
   "codemirror_mode": {
    "name": "ipython",
    "version": 3
   },
   "file_extension": ".py",
   "mimetype": "text/x-python",
   "name": "python",
   "nbconvert_exporter": "python",
   "pygments_lexer": "ipython3",
   "version": "3.6.9"
  }
 },
 "nbformat": 4,
 "nbformat_minor": 2
}
